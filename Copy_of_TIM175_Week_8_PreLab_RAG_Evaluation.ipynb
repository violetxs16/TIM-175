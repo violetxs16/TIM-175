{
  "nbformat": 4,
  "nbformat_minor": 0,
  "metadata": {
    "colab": {
      "provenance": [],
      "include_colab_link": true
    },
    "kernelspec": {
      "name": "python3",
      "display_name": "Python 3"
    },
    "language_info": {
      "name": "python"
    }
  },
  "cells": [
    {
      "cell_type": "markdown",
      "metadata": {
        "id": "view-in-github",
        "colab_type": "text"
      },
      "source": [
        "<a href=\"https://colab.research.google.com/github/violetxs16/TIM-175/blob/main/Copy_of_TIM175_Week_8_PreLab_RAG_Evaluation.ipynb\" target=\"_parent\"><img src=\"https://colab.research.google.com/assets/colab-badge.svg\" alt=\"Open In Colab\"/></a>"
      ]
    },
    {
      "cell_type": "markdown",
      "source": [
        "### Imports\n",
        "Please make sure to run this first to set up the environment. This can take around a few minutes"
      ],
      "metadata": {
        "id": "5s3k1Rbj01Vk"
      }
    },
    {
      "cell_type": "code",
      "execution_count": null,
      "metadata": {
        "id": "kzVs1uOPvwB2",
        "colab": {
          "base_uri": "https://localhost:8080/",
          "height": 54
        },
        "outputId": "17756a13-b573-40e4-d44d-c15b9215fbff"
      },
      "outputs": [
        {
          "output_type": "stream",
          "name": "stderr",
          "text": [
            "WARNING:huggingface_hub.file_download:Xet Storage is enabled for this repo, but the 'hf_xet' package is not installed. Falling back to regular HTTP download. For better performance, install the package with: `pip install huggingface_hub[hf_xet]` or `pip install hf_xet`\n"
          ]
        }
      ],
      "source": [
        "#You do not need to make any changes to this cell, only run the cell by using the button on the left\n",
        "\n",
        "%%capture\n",
        "from sentence_transformers import SentenceTransformer\n",
        "import numpy as np\n",
        "from numpy.linalg import norm\n",
        "model = SentenceTransformer(\"avsolatorio/GIST-large-Embedding-v0\", revision=None)\n",
        "\n",
        "\n",
        "!pip install pymupdf\n",
        "!pip install -q -U google-generativeai\n",
        "!pip install langchain-google-genai\n",
        "!pip install ragas\n",
        "\n",
        "\n",
        "from langchain_text_splitters import RecursiveCharacterTextSplitter, CharacterTextSplitter, TokenTextSplitter\n",
        "import google.generativeai as genai"
      ]
    },
    {
      "cell_type": "code",
      "source": [
        "#You do not need to make any changes to this cell, only run the cell by using the button on the left\n",
        "\n",
        "def cos(A, B, normalize=True): #normalize for cos sim, or do dot product\n",
        "  \"\"\"\n",
        "  returns similarity between 2 vecors using cos sim\n",
        "  \"\"\"\n",
        "  A, B = A, B\n",
        "  if normalize:\n",
        "      return (A @ B.T)/(norm(A)*norm(B))\n",
        "  return A @ B.T\n",
        "\n",
        "def read_file(file):\n",
        "  \"\"\"\n",
        "  read in pdf or txt file\n",
        "  \"\"\"\n",
        "  if file[-3:] == \"txt\":\n",
        "    f = open(file)\n",
        "    return f.read()\n",
        "  elif file[-3:] == \"pdf\":\n",
        "    import pymupdf\n",
        "    text = \"\"\n",
        "    doc = pymupdf.open(file)\n",
        "    for page in doc:\n",
        "      text += page.get_text()\n",
        "    return text\n",
        "\n",
        "  else:\n",
        "    print(\"Please use a pdf or txt file for this task\")\n",
        "    return None\n",
        "\n",
        "\n",
        "def generate(model, GOOGLE_API_KEY, query):\n",
        "    \"\"\"\n",
        "    Creates a call to the API\n",
        "    Takes in a model to choose which API\n",
        "    Returns the updated tokens (int, int) and API response (str)\n",
        "    \"\"\"\n",
        "    if model[0:6] == \"gemini\":\n",
        "        genai.configure(api_key=GOOGLE_API_KEY)\n",
        "        model = genai.GenerativeModel(model)\n",
        "        response = model.generate_content(query)\n",
        "        return response.text\n",
        "\n",
        "    else: raise (f\"Error, model {model} not found\")"
      ],
      "metadata": {
        "id": "M_n6Uz4P9HIn"
      },
      "execution_count": null,
      "outputs": []
    },
    {
      "cell_type": "code",
      "source": [
        "config = {\n",
        "    \"model\": \"gemini-2.0-flash\",  # or other model IDs\n",
        "    \"temperature\": 0.4,\n",
        "    \"max_tokens\": None,\n",
        "    \"top_p\": 0.8,\n",
        "}"
      ],
      "metadata": {
        "id": "1iWPZ9nONtXj"
      },
      "execution_count": null,
      "outputs": []
    },
    {
      "cell_type": "markdown",
      "source": [
        "### The goal of this activity is to get practice using the RAGAS library to assess RAG outputs. To do this we will first need some RAG output to assess!\n",
        "\n",
        "For now, we will set up a simple database with a document of your choosing. Since RAG is not the main focus this week we wont cover each step in depth. If you need a refresher of how anything works, please see last weeks PreLab."
      ],
      "metadata": {
        "id": "1pmBqMHNNFsv"
      }
    },
    {
      "cell_type": "markdown",
      "source": [
        "### 1. Upload a document of your choosing. This can be the same document you used for the PreLab last week, or a completely new one! Try and keep it a reasonable length.\n",
        "\n",
        "\\* To upload files, click the folder icon on the left hand side of the screen and select \"Upload to session storage\".This will only keep the file as long as the session is running so if you come back to this task later, you will need to reupload your files *"
      ],
      "metadata": {
        "id": "VQwJT_6GTZeU"
      }
    },
    {
      "cell_type": "code",
      "source": [
        "# Upload the file (you already did this)\n",
        "from google.colab import files\n",
        "uploaded = files.upload()\n",
        "\n",
        "# Get the filename directly from uploaded dict\n",
        "file_name = list(uploaded.keys())[0]  # Should be '011_ Brook Ewoldsen_Fashion Institute Of Design (FIDM) .txt'\n",
        "\n",
        "document = read_file(file_name)"
      ],
      "metadata": {
        "id": "GFWuhhZsSE1r",
        "colab": {
          "base_uri": "https://localhost:8080/",
          "height": 73
        },
        "outputId": "fab92e4a-d5e0-420f-af92-c0708a3fd563"
      },
      "execution_count": null,
      "outputs": [
        {
          "output_type": "display_data",
          "data": {
            "text/plain": [
              "<IPython.core.display.HTML object>"
            ],
            "text/html": [
              "\n",
              "     <input type=\"file\" id=\"files-fedb884f-75a4-4579-b92f-1e8cfa9c9bd4\" name=\"files[]\" multiple disabled\n",
              "        style=\"border:none\" />\n",
              "     <output id=\"result-fedb884f-75a4-4579-b92f-1e8cfa9c9bd4\">\n",
              "      Upload widget is only available when the cell has been executed in the\n",
              "      current browser session. Please rerun this cell to enable.\n",
              "      </output>\n",
              "      <script>// Copyright 2017 Google LLC\n",
              "//\n",
              "// Licensed under the Apache License, Version 2.0 (the \"License\");\n",
              "// you may not use this file except in compliance with the License.\n",
              "// You may obtain a copy of the License at\n",
              "//\n",
              "//      http://www.apache.org/licenses/LICENSE-2.0\n",
              "//\n",
              "// Unless required by applicable law or agreed to in writing, software\n",
              "// distributed under the License is distributed on an \"AS IS\" BASIS,\n",
              "// WITHOUT WARRANTIES OR CONDITIONS OF ANY KIND, either express or implied.\n",
              "// See the License for the specific language governing permissions and\n",
              "// limitations under the License.\n",
              "\n",
              "/**\n",
              " * @fileoverview Helpers for google.colab Python module.\n",
              " */\n",
              "(function(scope) {\n",
              "function span(text, styleAttributes = {}) {\n",
              "  const element = document.createElement('span');\n",
              "  element.textContent = text;\n",
              "  for (const key of Object.keys(styleAttributes)) {\n",
              "    element.style[key] = styleAttributes[key];\n",
              "  }\n",
              "  return element;\n",
              "}\n",
              "\n",
              "// Max number of bytes which will be uploaded at a time.\n",
              "const MAX_PAYLOAD_SIZE = 100 * 1024;\n",
              "\n",
              "function _uploadFiles(inputId, outputId) {\n",
              "  const steps = uploadFilesStep(inputId, outputId);\n",
              "  const outputElement = document.getElementById(outputId);\n",
              "  // Cache steps on the outputElement to make it available for the next call\n",
              "  // to uploadFilesContinue from Python.\n",
              "  outputElement.steps = steps;\n",
              "\n",
              "  return _uploadFilesContinue(outputId);\n",
              "}\n",
              "\n",
              "// This is roughly an async generator (not supported in the browser yet),\n",
              "// where there are multiple asynchronous steps and the Python side is going\n",
              "// to poll for completion of each step.\n",
              "// This uses a Promise to block the python side on completion of each step,\n",
              "// then passes the result of the previous step as the input to the next step.\n",
              "function _uploadFilesContinue(outputId) {\n",
              "  const outputElement = document.getElementById(outputId);\n",
              "  const steps = outputElement.steps;\n",
              "\n",
              "  const next = steps.next(outputElement.lastPromiseValue);\n",
              "  return Promise.resolve(next.value.promise).then((value) => {\n",
              "    // Cache the last promise value to make it available to the next\n",
              "    // step of the generator.\n",
              "    outputElement.lastPromiseValue = value;\n",
              "    return next.value.response;\n",
              "  });\n",
              "}\n",
              "\n",
              "/**\n",
              " * Generator function which is called between each async step of the upload\n",
              " * process.\n",
              " * @param {string} inputId Element ID of the input file picker element.\n",
              " * @param {string} outputId Element ID of the output display.\n",
              " * @return {!Iterable<!Object>} Iterable of next steps.\n",
              " */\n",
              "function* uploadFilesStep(inputId, outputId) {\n",
              "  const inputElement = document.getElementById(inputId);\n",
              "  inputElement.disabled = false;\n",
              "\n",
              "  const outputElement = document.getElementById(outputId);\n",
              "  outputElement.innerHTML = '';\n",
              "\n",
              "  const pickedPromise = new Promise((resolve) => {\n",
              "    inputElement.addEventListener('change', (e) => {\n",
              "      resolve(e.target.files);\n",
              "    });\n",
              "  });\n",
              "\n",
              "  const cancel = document.createElement('button');\n",
              "  inputElement.parentElement.appendChild(cancel);\n",
              "  cancel.textContent = 'Cancel upload';\n",
              "  const cancelPromise = new Promise((resolve) => {\n",
              "    cancel.onclick = () => {\n",
              "      resolve(null);\n",
              "    };\n",
              "  });\n",
              "\n",
              "  // Wait for the user to pick the files.\n",
              "  const files = yield {\n",
              "    promise: Promise.race([pickedPromise, cancelPromise]),\n",
              "    response: {\n",
              "      action: 'starting',\n",
              "    }\n",
              "  };\n",
              "\n",
              "  cancel.remove();\n",
              "\n",
              "  // Disable the input element since further picks are not allowed.\n",
              "  inputElement.disabled = true;\n",
              "\n",
              "  if (!files) {\n",
              "    return {\n",
              "      response: {\n",
              "        action: 'complete',\n",
              "      }\n",
              "    };\n",
              "  }\n",
              "\n",
              "  for (const file of files) {\n",
              "    const li = document.createElement('li');\n",
              "    li.append(span(file.name, {fontWeight: 'bold'}));\n",
              "    li.append(span(\n",
              "        `(${file.type || 'n/a'}) - ${file.size} bytes, ` +\n",
              "        `last modified: ${\n",
              "            file.lastModifiedDate ? file.lastModifiedDate.toLocaleDateString() :\n",
              "                                    'n/a'} - `));\n",
              "    const percent = span('0% done');\n",
              "    li.appendChild(percent);\n",
              "\n",
              "    outputElement.appendChild(li);\n",
              "\n",
              "    const fileDataPromise = new Promise((resolve) => {\n",
              "      const reader = new FileReader();\n",
              "      reader.onload = (e) => {\n",
              "        resolve(e.target.result);\n",
              "      };\n",
              "      reader.readAsArrayBuffer(file);\n",
              "    });\n",
              "    // Wait for the data to be ready.\n",
              "    let fileData = yield {\n",
              "      promise: fileDataPromise,\n",
              "      response: {\n",
              "        action: 'continue',\n",
              "      }\n",
              "    };\n",
              "\n",
              "    // Use a chunked sending to avoid message size limits. See b/62115660.\n",
              "    let position = 0;\n",
              "    do {\n",
              "      const length = Math.min(fileData.byteLength - position, MAX_PAYLOAD_SIZE);\n",
              "      const chunk = new Uint8Array(fileData, position, length);\n",
              "      position += length;\n",
              "\n",
              "      const base64 = btoa(String.fromCharCode.apply(null, chunk));\n",
              "      yield {\n",
              "        response: {\n",
              "          action: 'append',\n",
              "          file: file.name,\n",
              "          data: base64,\n",
              "        },\n",
              "      };\n",
              "\n",
              "      let percentDone = fileData.byteLength === 0 ?\n",
              "          100 :\n",
              "          Math.round((position / fileData.byteLength) * 100);\n",
              "      percent.textContent = `${percentDone}% done`;\n",
              "\n",
              "    } while (position < fileData.byteLength);\n",
              "  }\n",
              "\n",
              "  // All done.\n",
              "  yield {\n",
              "    response: {\n",
              "      action: 'complete',\n",
              "    }\n",
              "  };\n",
              "}\n",
              "\n",
              "scope.google = scope.google || {};\n",
              "scope.google.colab = scope.google.colab || {};\n",
              "scope.google.colab._files = {\n",
              "  _uploadFiles,\n",
              "  _uploadFilesContinue,\n",
              "};\n",
              "})(self);\n",
              "</script> "
            ]
          },
          "metadata": {}
        },
        {
          "output_type": "stream",
          "name": "stdout",
          "text": [
            "Saving 011_ Brook Ewoldsen_Fashion Institute Of Design (FIDM) .txt to 011_ Brook Ewoldsen_Fashion Institute Of Design (FIDM)  (2).txt\n"
          ]
        }
      ]
    },
    {
      "cell_type": "code",
      "source": [
        "#You do not need to make any changes to this cell, only run the cell by using the button on the left\n",
        "\n",
        "print(document) # Make sure everything looks right"
      ],
      "metadata": {
        "id": "DEnE13F7UGWL",
        "colab": {
          "base_uri": "https://localhost:8080/"
        },
        "outputId": "baf4739c-89cc-4cff-f2d3-f25533a64b1b"
      },
      "execution_count": null,
      "outputs": [
        {
          "output_type": "stream",
          "name": "stdout",
          "text": [
            "﻿Interviewee: Brook Ewoldsen\n",
            "Industry Sectors: Fashion and Interior Design\n",
            "Source: https://soundcloud.com/what-to-be/fashion-institute-of-design-fidm-guest-speaker-brook-ewoldsen?utm_source=clipboard&utm_medium=text&utm_campaign=social_sharinghttps://soundcloud.com/what-to-be/fashion-institute-of-design-fidm-guest-speaker-brook-ewoldsen?utm_source=clipboard&utm_medium=text&utm_campaign=social_sharing\n",
            "\n",
            "\n",
            "\n",
            "\n",
            "\n",
            "\n",
            "\n",
            "\n",
            "# INTRO\n",
            "Interviewer  0:04  \n",
            "You're listening to k squared Santa Cruz at 90.7 FM. My name is Interviewer and I am an intern at Your futures our business, a Santa Cruz County nonprofit which helps students ages 10 to 18. Explore Careers and start their career journey. We provide career expos, panels, guest speakers and more. Today I'm here with my other host Interviewer.\n",
            "\n",
            "\n",
            "\n",
            "\n",
            "Interviewer  0:26  \n",
            "Hello everyone. Our show want to be highlights the career journeys of inspirational people in Santa Cruz County. If you've ever thought Hmm, how did they get that job? Or what does that job really like? Then keep on listening.\n",
            "\n",
            "\n",
            "\n",
            "\n",
            "Interviewer  0:38  \n",
            "We would also like to remind listeners that the opinions expressed by today's guest do not necessarily reflect this career in its entirety.\n",
            "\n",
            "\n",
            "\n",
            "\n",
            "#FIDM\n",
            "Interviewer  0:46  \n",
            "Today, we're joined by our guest, Brooke E. Watson, who was a guest speaker and college representative for the Fashion Institute of Design and Merchandising, otherwise known as FIDM, or FIDM. Can you tell us what FIDM is and what exactly you do?\n",
            "\n",
            "\n",
            "\n",
            "\n",
            "Brooke  1:01  \n",
            "So FIDM is a private, specialized, fully accredited college or California College. And it's been around for 50 years. We're a design college with 26 different majors. So everything from footwear design, to fashion, television and film costume design, interior visual communications, digital media, graphics. Everything is related to one of the more creative industries here in California, which we really have like the lion's share here, California and New York.\n",
            "\n",
            "\n",
            "\n",
            "\n",
            "Interviewer  1:39  \n",
            "So it Started in California, or, you know, we\n",
            "\n",
            "\n",
            "\n",
            "\n",
            "Brooke  1:41  \n",
            "are we were founded by the same president that we have today. 50 years ago, she actually came out from the Midwest, took a look at California and decided, wow, there's, you know, manufacturing, there's Hollywood, there's fashion, why doesn't somebody put together a college that really serves these industries. So in its founding way back when we've, we've grown, we now have four campuses in California. So LA, San Francisco, San Diego, and one in Orange County, and those are actually the centers of fashion. We are the center really globally for action sportswear. So Orange County, has like 270 different action sportswear companies alone.\n",
            "\n",
            "\n",
            "\n",
            "\n",
            "\n",
            "\n",
            "\n",
            "\n",
            "#EDUCATION EXPERIENCE\n",
            "Interviewer  2:31  \n",
            "Can you explain more about your career history with\n",
            "\n",
            "\n",
            "\n",
            "\n",
            "Brooke  2:34  \n",
            "FIDM? Well, I did work in the fashion industry. Well, I did a few different things. I did grow up in Santa Cruz County. I went to Harbor High. I also attended Cabrillo when I was in high school, I was an art student and I loved like making off my own clothes. I loved painting murals. I would rearrange my mom's house which you know, everyday she came home she was like, Where is the couch?\n",
            " So I graduated but really didn't know what to do. I shared with my parents, I thought maybe I wanted to be an artist. And as you know, they're like starving artists. Not going to happen. So um, they couldn't relate. My dad had a PhD as a scientist, my mom's a teacher. So you know, they encouraged me to just get my general education.\n",
            " While I was going to college, at Cabrillo Cabrillo. I saw a job as a model. So I started to model in the industry. And then got to know like the owner of the company that was working for, now, at that time, it was actually a fashion auction. Now we don't have those anymore. Yeah, it's like a runway show. But this is selling we're selling in that case designer samples. This is before like TJ Maxx was before Ross or Marshalls. So people would come to the show to get like amazing fashion at a discounted price. And we would auction off the clothes. So I started to help her buy merchandise because I was younger than she was for the for the shows. And from there I just got more interested and helped her to open a couple of boutiques and then also became an auctionier.\n",
            "\n",
            "\n",
            "\n",
            "\n",
            "Interviewer  2:49  \n",
            "Can you sample for us? Like something you would say?\n",
            "\n",
            "\n",
            "\n",
            "\n",
            "Brooke  3:41  \n",
            "Sell this iPhone. And let's say we have a bid for $100 Let's go now. 112 125 now 137.50 150 162.50 You know and so it goes on and often people are like why do you talk so fast? We You're auctioning, we may have, you know, 80 items, in an hour, you know. So you have to cut it off, you have like 40 seconds per item. But from there, I saw I was auctioning, but just loving fashion working with DJs, working with models, styling the clothes, and I was still going to college. I went to San Jose State. Well, it was really kind of around my voice because I was one of those people that didn't mind getting up in front of an audience. Yes, you know, so I had pretty good odds because of that not everybody likes to talk in front of an audience. So ultimately, I wanted to go for broadcast journalism. But because I took so many years at Cabrillo, and so much time to figure out what I was doing. By the time I was getting my degree, I was married. And I had a child. Yeah, I went to college for like eight years.\n",
            "\n",
            "\n",
            "\n",
            "\n",
            "Interviewer  6:07  \n",
            "So it wasn't because you didn't know what you wanted to do or what you actually wanted intentionally, or?\n",
            "\n",
            "\n",
            "\n",
            "\n",
            "Brooke  6:14  \n",
            "Because I think it was because nobody acknowledged what I wanted to do you know how they took a taken a studied look at those things that I did naturally. Well, if they saw, you know, the kinds of activities that I liked, they would have said like, why don't you look at the field of design? Well, no, because it was just something I did. I didn't think that it could I just didn't even know you could do you know without for living?\n",
            " The design industry. The fashion industry is huge in Southern California. Yeah, even San Francisco, you have Levi Strauss and GAAP, a lot of big companies. But you know, in Santa Cruz, we do actually have like Santa Cruz skateboards, and Neil's was founded here. So, you know, if you, if you kind of look around, then you see it. But by the time I graduated, and, you know, I was looking at becoming a broadcast journalist, it, it hit me, it's like, oh, you have to be up at 2am in the morning. I was like, not a morning person, even at like 6am. And I had a child. So I was like, that's just not gonna work, you know. So my next step was to go into public relations.\n",
            " So one thing that I did find out about myself as well was my first public relations job was with a high tech company way, way back in the day, when Silicon Valley was just being founded. I was sitting in my office looking out the window, and I saw this guy raking. And I was watching him rake, and I'm like, Oh, my God, that just looks wonderful. Like, I want to be out there raking leaves with him, like, you know, kind of cleaning it up. And you know, I'm kind of looking at them planting the plants. And I'm at that time, I just had this epiphany, like this realization, it's like, oh, my gosh, you are in the wrong line of business girlfriend, like, this is not what you want to do, you do not want to sit at a desk, you don't want to work in a computer, you want to be out there, and you want to like make things more beautiful. \n",
            "So I didn't exactly have a plan for that. But I did know that I could still do fashion. And that was more active and it wasn't desk oriented. So I started my own business at that time, and did also sell designer samples. So along the way, and I was also a professional auctioneer by then. And so I did a lot of charity auctions.\n",
            "\n",
            "\n",
            "\n",
            "\n",
            "Interviewer  9:03  \n",
            "What kind of training, what do you do for that?\n",
            "\n",
            "\n",
            "\n",
            "\n",
            "Interviewer  9:06  \n",
            "Yeah, how did that? How did you train your voice to become?\n",
            "\n",
            "\n",
            "\n",
            "\n",
            "Brooke  9:10  \n",
            "Well, they actually have schools too, become auctioneers I did not go to school, you can study it's kind of like the real estate license. So okay, so back then, you did need a license to auctioneer and to get the license. You had to know like, you know, the different parts of the cow. You have to know the different kinds of horses because they really, Yeah, so I learned that I, don't quiz me now. And then just really practiced, you know, with different increments and being able to, you know, to fill and really the thing that I loved is working with the audience, you know, making eye contact, having that nonverbal communication, kind of the psychology of the sale. \n",
            "So, so doing, like, large events for different charities was, was fun. But, you know, after a while, I was definitely getting a little tired. And that's when a friend of mine, who was the editor of the good times, said, Hey, I see this job. And it says that the Fashion Institute needs a public speaker. I'm like, well, that works. You know, I've done fashion and I'm a public speaker. And this would be the perfect marriage. So that's what I did. I applied. They liked me. They're like my background. I had a degree. And, you know, even though it wasn't the same degree, like it was public relations, so that worked well, yeah. For what I was going into\n",
            "\n",
            "\n",
            "\n",
            "\n",
            "Interviewer  10:52  \n",
            "for your interview. Did they ask you to, like sample?\n",
            "\n",
            "\n",
            "\n",
            "\n",
            "Brooke  10:57  \n",
            "They did. Actually, they asked me to stand up and tell them a little bit about myself. Yeah. So I think I might have shared like, you know, I think they asked me like, what was my first job? You know, so of course, I had to share with them I was an elf. And I was an elf at a place called Santas village. it was in Scotts Valley. Oh, wow. And they actually had another place called lost world. And lost World was across the freeway, kind of near where Scotts Valley High School is in that area. They used to have this huge dinosaur. It was like 50 feet tall. Well, as you drove there. It's dead. No, I don't. It's replaced by something. It's yeah, it's been moved. It was awesome. And then Santos village, Mr. And Mrs. Claus live there. I ran the merry go round. But eventually, I was promoted. And I drove the train. So think boardwalk, but now, but Santa, you know, in the forest, and it was in a redwood Grove, it's now exactly where all of the new buildings there's new, like condos have just been put up there near Seagate. So anyhow, so I was just, you know, the envy of the other elves because I got to drive the train. So, but it was, it was fine. It was my first step into, you know, show business.\n",
            "\n",
            "\n",
            "\n",
            "\n",
            "Interviewer  12:43  \n",
            "Do you think that job gave you the confidence to keep doing public speaking. \n",
            "\n",
            "\n",
            "\n",
            "\n",
            "Brooke  12:49  \n",
            "Well, it did. I mean, it was a lot of working with like kids, they would bring kids in by the busload. Yeah. And you had to assert yourself, you had to use your voice to keep control. And I did work also in like different restaurant jobs being in Santa Cruz, growing up in Santa Cruz, as I was in high school. But it was always people oriented. So I definitely had a sense that that was something I should pursue something that working with people, not going into research.\n",
            "\n",
            "\n",
            "\n",
            "\n",
            "Interviewer  13:26  \n",
            "You mentioned high school. So in high school, were you a good public speaker? And were the classes or programs that you were involved in?\n",
            "\n",
            "\n",
            "\n",
            "\n",
            "Brooke  13:32  \n",
            "Yeah, I, you know, again, I was an art student, I never did drama. To be honest, I spent a lot of time on the beach. Really, it was, it was way, way back in the day. We didn't I don't even know if they had AP classes. It was a really different time, you know, the population was like, less than half what we have on the planet right now. And there was just a lot more, you know, easy going that I don't think pushes ourselves as hard as students do today. You know, it wasn't a global economy quite than it was more local.\n",
            "\n",
            "\n",
            "\n",
            "\n",
            "Interviewer  14:14  \n",
            "What kind of art did you do? \n",
            "\n",
            "\n",
            "\n",
            "\n",
            "Brooke  14:17  \n",
            "I did, like watercolor was not my best. I was really more of an acrylics, I like landscapes. I still like a lot of color. Unfortunately, I haven't been able to, you know, pursue my art because now it's, you know, life is too busy. But someday, someday I'll go back to that. Yeah.\n",
            "\n",
            "\n",
            "\n",
            "\n",
            "#WORKING AT FIDM\n",
            "Interviewer  14:39  \n",
            "So as a college representative, what are your duties? What do you do?\n",
            "\n",
            "\n",
            "\n",
            "\n",
            "Brooke  14:44  \n",
            "Well, I one thing I love about my job is because I work in the community and Educational Affairs Department. We're given the freedom to do different kinds of presentations. So we have historical one's like on the history and fashion of France. Like Louie the 14th was the first to wear the high heel and popularized Leonardo da Vinci was one man that worked on the invention of the high heel. There's some pretty cool history. We do you know, the history of modern American dress and how World War II really allowed women to wear pants yet, even here in Santa Cruz, Going to high school in the 60s, my older cousins were the 60s, they couldn't wear pants to school. So there was like this huge revolution in 1970, when all the girls started wearing pants, so it allows me the job itself allows me to kind of venture out, we do professional development, workshops, social media management workshops, visual communications workshops. So the job continues, you know, continuously requires me to learn. And, you know, working with teens and younger students is always refreshing, like my knowledge and giving me a different point of view. So I really enjoy and appreciate, you know, what that brings into my life, just the understanding of kind of like, what's happening right now?\n",
            "\n",
            "\n",
            "\n",
            "\n",
            "Interviewer  16:25  \n",
            "Do you have a favorite memory that comes to mind led to this career to this job?\n",
            "\n",
            "\n",
            "\n",
            "\n",
            "Brooke  16:31  \n",
            "Let me think, well, Getting those cookies from Mrs. Oh, you know, I think just being able to, like really feel like I had a sense of community with other people that I work with. I am what is called like a, you know, out in the field. So, you know, we are field workers. So we don't always see our co workers, but because I have stayed with the job for a long time, I really develop close relationships. So that on a personal level has been really fulfilling. And then of course, working with students who have found like, Oh, this is it, like, that's what I want to do, and like myself, not really realizing that you can do it. So I think, you know, when I think of the students that I've met, that have just had that insight, that was definitely probably the most rewarding is just, you know, share, you know, sharing with them and their families that this is a huge, multi multibillion dollar global industry, and that there is so much opportunity. So many people have been encouraged to go into STEM, that we have a real need for designers. So there are 1000s of jobs now open in the design fields, because people choosing law or medicine, or some other fields.\n",
            "\n",
            "\n",
            "\n",
            "\n",
            "Interviewer  18:14  \n",
            "have you faced any challenges in this career?\n",
            "\n",
            "\n",
            "\n",
            "\n",
            "Brooke  18:17  \n",
            "It it's always well, it's always challenging to keep the audience in this case, teenagers inspired and connected. Technology has certainly come, you know, competes for attention. So that's something that's very challenging, building awareness. So it's not only teenagers that may not know about this industry, but educators, administrators, the general public, and I think it's it, unfortunately, the art and design of the things that we own and value haven't really been given the value, the people that create them here haven't been given the value that perhaps they need to be recognized for. If you go to Europe, a fashion designer is the equivalent to like a lawyer or a doctor, they're very highly esteemed, they're artists. And here, you know, the United States we, I think just take them for granted, you know, like it just happens or something. So So that's challenging.\n",
            "\n",
            "\n",
            "\n",
            "\n",
            "Interviewer  19:32  \n",
            "Did you always know you were gonna go into fashion as a high school or what was your as a high schooler? What was your like life plan?\n",
            "\n",
            "\n",
            "\n",
            "\n",
            "Brooke  19:39  \n",
            "Well, again, I think, like a lot of people I kind of focused on more of a grandiose vision of maybe what I would be doing. And I mean, my, my vision My goal has never really changed. I mean, my emphasis is to make the world a better place. To maybe bring more hope and beauty to the planet. Originally, as I mentioned, I saw that maybe by innovating the news, like instead of like turning on the the nightly news as a broadcaster to gloom and doom, you know, why don't we talk about, like, all the amazing things that are happening, like, because I think it is a social psychology, you know, the more negative things that we think about the more maybe they manifest. So, of course, my instructor said, that's a ridiculous idea, you shouldn't do that. So I kind of got dissuade by that. But I knew I didn't actually really think and that's why because I don't think I knew about it. \n",
            "Like even interior design, you know, creating everything from healing environments, you know, you can use color, like a moth pink is one of the most soothing, yeah, blue is calming, red, you know, can actually induce anxiety. Orange is will make you hungry. Yeah. So, you know, every color has its association, you know, black can absolutely be sophisticated. But if you surround yourself in too much black, it can, you know, start to pull you into the darkness a little bit more. So, yellow, so you can counter that with a little yellow, which will make you feel cheerful. So, you know, a green, you know, is growing. So there's and then it gets even down to the specific shade. Yeah. So it's, and there are people that just do that for a living, you know, they they only work with color.\n",
            "\n",
            "\n",
            "\n",
            "\n",
            "Interviewer  21:57  \n",
            "It seems like you've always had this artistic side to and you've never really , its just a part of you carrying it with you already.\n",
            "\n",
            "\n",
            "\n",
            "\n",
            "Brooke  22:03  \n",
            "Yeah, yeah, that's what I would encourage, you know, students is to just really tune in and listen to themselves, like, for so long, growing up, and it doesn't happen as much to me today. I used to think in color, you know, and so everything was very visual in my mind, and, you know, maybe hearing melodies and things like that. And you know, and yeah, just kind of pushing that down. I was a very good student in high school, you know, got good grades throughout college, and, but not in those fields, because I didn't take them that would have connected with that way of thinking. So, yeah,\n",
            "\n",
            "\n",
            "\n",
            "\n",
            "Interviewer  22:48  \n",
            "so if you were a high school student today, and you were interested in going to FIDM, what would you study there?\n",
            "\n",
            "\n",
            "\n",
            "\n",
            "Brooke  22:54  \n",
            "Well, I probably at today, now originally, it definitely would have been fashion, because I used to look at people and I would design clothes for them in my head and just like a random stranger on the street and be like, let me just put this on you. But today, I would probably do. Maybe interior design or visual communications. Visual Communications is really fluid, it's creating environments, it could include sound, lighting, it's really developing experiences for people. So you can bring in multimedia. So it's got a lot of freedom in the field. I'm also a yoga person. So I am really fascinated with just that connection between like, you know, our mind, our body and our and the environment, and how that all works together. So I think that could the visual communications could really make that an interesting experience.\n",
            "\n",
            "\n",
            "\n",
            "\n",
            "Interviewer  24:03  \n",
            "Is there someone that you look up to or that inspired you? Um,\n",
            "\n",
            "\n",
            "\n",
            "\n",
            "Brooke  24:07  \n",
            "oh, absolutely. I when I first worked for the college I worked for today, there were some women that work there that I just thought, oh my gosh, you know, if I could only be like that, like, there's like, looks so good. You know, they speak so well. And, you know, they're very positive\n",
            "\n",
            "\n",
            "\n",
            "\n",
            "Interviewer  24:30  \n",
            "And they dress well I'm guessing?\n",
            "\n",
            "\n",
            "\n",
            "\n",
            "\n",
            "\n",
            "\n",
            "\n",
            "Brooke  24:31  \n",
            "Yes. Yeah. They looked fantastic. And, and one thing I think, you know, people will have in their mind they feel like well, if I don't have money, I can't look good. That is absolutely not true. You have to do is walk in the goodwill and see that new dress for $1.99.\n",
            "\n",
            "\n",
            "\n",
            "\n",
            "#ADVICE FOR THE FUTURE\n",
            "Interviewer  24:49  \n",
            "Do you have any fashion tips or or interview outfit tips that the audience could,\n",
            "\n",
            "\n",
            "\n",
            "\n",
            "Brooke  24:53  \n",
            "Yes. Absolutely. Yes. Don't worry about where you find it. Do you make sure that it fits well, and that the look is timeless. So, you know, you might look back at Audrey Hepburn is always such a classic example. And, you know, who'd we give for the guys? I don't know, like, maybe not Cary Grant, but I'm sure there's a fashion icon for a man that is just a timeless look, people have peeled away. A lot of say, the facade of fashion. So I don't think you want to look like overly dressed up. So for me, I would say And yeah, like kind of keep it simple. Yeah. Like wear a good quality, but nothing that like screams this was expensive.\n",
            "\n",
            "\n",
            "\n",
            "\n",
            "Interviewer  25:52  \n",
            "alligator skin, right?\n",
            "\n",
            "\n",
            "\n",
            "\n",
            "Brooke  25:55  \n",
            "And then on the Yeah, on the flip side, I think people do themselves a disservice when they are too casual. Growing up in Santa Cruz, you know, you're in a part of the counterculture. Yeah. Yeah. And I remember just like, you know, getting dressed up and then having people look at me, like, who are you? Where are you from? Like, and, Like, I'm from here. So, so but I think there's always that, that what they call high, low fashion, where you're kind of combining a current trend with something more classic. That just looks right. Yeah. You know, and you can certainly find that online. You know, a lot of the influencers to say, yeah, that that looks good. That's professional. It's not too casual. But it looks like fresh.\n",
            "\n",
            "\n",
            "\n",
            "\n",
            "Interviewer  26:50  \n",
            "Do you have a style icon? Probably many, right? Or right now that you can think of?\n",
            "\n",
            "\n",
            "\n",
            "\n",
            "Brooke  26:55  \n",
            "Well, okay, I do actually, she's one of our graduates. Her name is Jules Syriana. And her her site, her Instagram site is sincerely Jules. And she's just man, she's got it going on. She's got just a great eye for fashion that kind of looks like a combination of Ralph Lauren and boho chic. And she does a lot of great collaborations and with different companies, that she's, she's definitely got a great style to\n",
            "\n",
            "\n",
            "\n",
            "\n",
            "Interviewer  27:32  \n",
            "think the fashion industry has changed throughout the years to include more experimental designs?\n",
            "\n",
            "\n",
            "\n",
            "\n",
            "Brooke  27:39  \n",
            "it's always been pushing the envelope but I think the the biggest innovation for you know, the fashion industry is sustainability. You know, really taking a steady look, if we have if we are trending towards 10 billion people on the planet. How do you clothe, because as far as I can tell, most people do wear clothes, really. So you know, how do you provide that many people with something that's not going to damage the planet. And that's what we're working on really hard. \n",
            "So even Pharrell Williams has a textile company, that they harvest plastic out of the ocean, and they create fiber out of that. There's a mushroom that's grown that there's something they do to this mushroom that it can create leather. So it's not plastic, it's not pleather, because we have to move away from plastic. But using things, everything from like grape skins, and of course, to coconuts, coffee plants, anything that we're consuming, yeah, that has a byproduct. If we can think in the cycle, you know, and completely use everything that we are discarding as a part of that reproduction of another material from it. That's how we're going to solve a lot of the world's problems. \n",
            "Also ethical, you know, business practices. If you do business, you know, within the United States, we do have laws that we do follow up on, if you go outside of the US to manufacture, you really have to know who are you working with? What is the labor? You know, what is their status with, you know, what are their conditions and make sure it's ethical. You know, not every country is like the United States. They have different agendas, even the the people working, they may want to work six days a week because they're only working for a certain period of time. They're not looking at it like this is my career. They're just wanting to come and make money, but it's knowing the different cultures the different country trees and the middleman in between? That's what's important.\n",
            "\n",
            "\n",
            "\n",
            "\n",
            "Interviewer  30:08\n",
            "What is something that you haven’t done yet, and you still want to achieve or do?\n",
            "\n",
            "\n",
            "\n",
            "\n",
            "\n",
            "\n",
            "\n",
            "\n",
            "Brooke  30:15\n",
            "Well I used to think that it was skydiving, but I am not doing that. No. Good question, well I think I again would like to you know develop a way for people to just really find that place where they are at peace and they are happy and that they feel,l like you know, the world is a good place to be. So, just to continuously work towards that and you know it will definitely include a lot of environmental you know influence so the place that this takes place wheter it be say a yoga studio with a lot of interior that is designed to give people that freedom, visual communications. I haven’t quite gotten there, I think thats the next chapter.\n",
            "\n",
            "\n",
            "\n",
            "\n",
            "Interviewer 31:18\n",
            "The last question we have for you is, is there any last comments or thoughts you would like to leave our listeners with?\n",
            "\n",
            "\n",
            "\n",
            "\n",
            "Brooke 31:24\n",
            "I would say, if your looking for a career do what you love and as confucius once said do what you love and youll never have to work a day in your life. So that is absolutely the best advice I could ever give anybody and dont doubt yourself because that thing that you dream of can be your destination you just have to keep going, keep working towards it.\n"
          ]
        }
      ]
    },
    {
      "cell_type": "markdown",
      "source": [
        "### 2. Chunk your document and create local database"
      ],
      "metadata": {
        "id": "ZfoWn2cgUtby"
      }
    },
    {
      "cell_type": "code",
      "source": [
        "#You do not need to make any changes to this cell, only run the cell by using the button on the left\n",
        "\n",
        "def get_text_splitter(splitter_type=\"character\", chunk_size=1000, chunk_overlap=200):\n",
        "    \"\"\"\n",
        "    Args:\n",
        "        splitter_type (str): The type of text splitter to use ('character', 'recursive', 'token').\n",
        "        chunk_size (int): The maximum size of each text chunk.\n",
        "        chunk_overlap (int): The overlap between text chunks.\n",
        "    \"\"\"\n",
        "    if splitter_type == \"character\":\n",
        "        return CharacterTextSplitter(chunk_size=chunk_size, chunk_overlap=chunk_overlap)\n",
        "    elif splitter_type == \"recursive\":\n",
        "        return RecursiveCharacterTextSplitter(chunk_size=chunk_size, chunk_overlap=chunk_overlap)\n",
        "    elif splitter_type == \"token\":\n",
        "        return TokenTextSplitter(chunk_size=chunk_size)\n",
        "    else:\n",
        "        raise ValueError(\"Invalid splitter type. Choose from 'character', 'recursive', or 'token'.\")\n",
        "\n",
        "\n",
        "def chunk_data(doc, splitter, chunk_size=1000, overlap=50):\n",
        "  splitter = get_text_splitter(splitter, chunk_size=chunk_size, chunk_overlap=overlap)\n",
        "  doc_chunks = splitter.split_text(doc)\n",
        "  documents = splitter.create_documents(doc_chunks)\n",
        "  return documents\n",
        "\n",
        "documents = [i.page_content for i in chunk_data(document, \"recursive\", chunk_size=1000, overlap=50)]"
      ],
      "metadata": {
        "id": "cMd-XoHqU6i0"
      },
      "execution_count": null,
      "outputs": []
    },
    {
      "cell_type": "code",
      "source": [
        "#You do not need to make any changes to this cell, only run the cell by using the button on the left\n",
        "\n",
        "# Ensure chunks look correct\n",
        "print(f\"Split into {len(documents)} chunks\")\n",
        "print(\"Chunk 1: \\n\", documents[0])\n",
        "print(type(documents))"
      ],
      "metadata": {
        "id": "XCBjvknxVP6Q",
        "colab": {
          "base_uri": "https://localhost:8080/"
        },
        "outputId": "5d8747b8-d74d-4c05-be56-a6584e69e8ae"
      },
      "execution_count": null,
      "outputs": [
        {
          "output_type": "stream",
          "name": "stdout",
          "text": [
            "Split into 47 chunks\n",
            "Chunk 1: \n",
            " ﻿Interviewee: Brook Ewoldsen\n",
            "Industry Sectors: Fashion and Interior Design\n",
            "Source: https://soundcloud.com/what-to-be/fashion-institute-of-design-fidm-guest-speaker-brook-ewoldsen?utm_source=clipboard&utm_medium=text&utm_campaign=social_sharinghttps://soundcloud.com/what-to-be/fashion-institute-of-design-fidm-guest-speaker-brook-ewoldsen?utm_source=clipboard&utm_medium=text&utm_campaign=social_sharing\n",
            "\n",
            "\n",
            "\n",
            "\n",
            "\n",
            "\n",
            "\n",
            "\n",
            "# INTRO\n",
            "Interviewer  0:04  \n",
            "You're listening to k squared Santa Cruz at 90.7 FM. My name is Interviewer and I am an intern at Your futures our business, a Santa Cruz County nonprofit which helps students ages 10 to 18. Explore Careers and start their career journey. We provide career expos, panels, guest speakers and more. Today I'm here with my other host Interviewer.\n",
            "<class 'list'>\n"
          ]
        }
      ]
    },
    {
      "cell_type": "code",
      "source": [
        "#You do not need to make any changes to this cell, only run the cell by using the button on the left\n",
        "\n",
        "#Create local embeddings database\n",
        "#This may take some time if you have many chunks\n",
        "embeddings = np.stack([model.encode(i) for i in documents])\n",
        "print(embeddings.shape) # (num chunks, embed dim)"
      ],
      "metadata": {
        "id": "ClrRnGFNVlTQ",
        "colab": {
          "base_uri": "https://localhost:8080/"
        },
        "outputId": "d49483c1-2096-4692-abbb-50b0a7a55237"
      },
      "execution_count": null,
      "outputs": [
        {
          "output_type": "stream",
          "name": "stdout",
          "text": [
            "(47, 1024)\n"
          ]
        }
      ]
    },
    {
      "cell_type": "markdown",
      "source": [
        "### 3. Simple RAG setup\n",
        "\n",
        "This function implements the most basic version of RAG. You are welcome to modify the prompt, but it is not required. The function returns both the LLM output as well as the retieved context for use in evaluation."
      ],
      "metadata": {
        "id": "sN7hx2PHavhf"
      }
    },
    {
      "cell_type": "code",
      "source": [
        "#You do not need to make any changes to this cell, only run the cell by using the button on the left\n",
        "\n",
        "def RAG(query, database, embeddings, k=1):\n",
        "  import torch\n",
        "\n",
        "  query_vector = model.encode(query)\n",
        "\n",
        "  context = []\n",
        "  for c in torch.topk(torch.from_numpy(cos(query_vector, embeddings)), k)[1]:\n",
        "    context.append(database[c])\n",
        "\n",
        "  prompt = f'''\n",
        "  You will be given a user query and context. Use the context given to\n",
        "  you to ground your response to answer the user query\n",
        "\n",
        "  USER QUERY: {query}\n",
        "  CONTEXT: {\"\".join(context)}\n",
        "  '''\n",
        "                             #gemini-2.0-flash-lite#\n",
        "  generation = generate(model=\"gemini-2.0-flash\", GOOGLE_API_KEY=os.environ[\"GOOGLE_API_KEY\"], query=prompt)\n",
        "\n",
        "  return context, generation"
      ],
      "metadata": {
        "id": "9E2eT0dfavyq"
      },
      "execution_count": null,
      "outputs": []
    },
    {
      "cell_type": "markdown",
      "source": [
        "## TASK: Using RAGAS to evaluate outputs\n",
        "\n",
        "Before we can evaluate any outputs, RAGAS requires a small amount of setup. First, ensure you gemini API key is connected:"
      ],
      "metadata": {
        "id": "AFDDTvUHSCSF"
      }
    },
    {
      "cell_type": "code",
      "source": [
        "#You do not need to make any changes to this cell, only run the cell by using the button on the left\n",
        "\n",
        "from google.colab import userdata\n",
        "import os\n",
        "\n",
        "os.environ[\"GOOGLE_API_KEY\"] = userdata.get('GOOGLE_API_KEY')"
      ],
      "metadata": {
        "id": "swbMEc8izYhJ"
      },
      "execution_count": null,
      "outputs": []
    },
    {
      "cell_type": "markdown",
      "source": [
        "For many metrics, RAGAS uses a second LLM to evaluate outputs, not completely unlike LLM as a judge, which we've previously discussed! For this example, we'll use Gemini, but RAGAS support various models."
      ],
      "metadata": {
        "id": "qOjfFY6DmsQG"
      }
    },
    {
      "cell_type": "code",
      "source": [
        "#You do not need to make any changes to this cell, only run the cell by using the button on the left\n",
        "\n",
        "from ragas.llms import LangchainLLMWrapper\n",
        "from ragas.embeddings import LangchainEmbeddingsWrapper\n",
        "from langchain_google_genai import ChatGoogleGenerativeAI\n",
        "\n",
        "\n",
        "# Initialize evaluator with Google AI Studio\n",
        "evaluator_llm = LangchainLLMWrapper(ChatGoogleGenerativeAI(\n",
        "    model=config[\"model\"],\n",
        "    temperature=config[\"temperature\"],\n",
        "    max_tokens=config[\"max_tokens\"],\n",
        "    top_p=config[\"top_p\"],\n",
        "))\n",
        "\n",
        "from langchain_google_genai import GoogleGenerativeAIEmbeddings\n",
        "evaluator_embeddings = LangchainEmbeddingsWrapper(GoogleGenerativeAIEmbeddings(\n",
        "    model=\"models/embedding-004\",  # Google's text embedding model\n",
        "    task_type=\"retrieval_document\"  # Optional: specify the task type\n",
        "))"
      ],
      "metadata": {
        "id": "Wc2hhQHizi-K"
      },
      "execution_count": null,
      "outputs": []
    },
    {
      "cell_type": "markdown",
      "source": [
        "### We are now ready to evaluate some outputs!\n",
        "\n",
        "Your job is two-fold:\n",
        "\n",
        "\n",
        "1. We have implemented Context Precision, Context Recall, Content Entity Recall, Noise Sensitivity, and Faithfulness. You may try implementing more metrics, but don't hesitate to ask for help if you would like to! Each metric has some starter code that you can find [HERE](https://docs.ragas.io/en/stable/concepts/metrics/available_metrics/).\n",
        "\n",
        "2.   Test out 5 unique queries for your database. Run 3 metrics on each one and log the results in the google doc. Below is some code to call the simple RAG function we definied earlier. Play around with different values of k to see what that does to different metrics.\n",
        "\n",
        "\n",
        "\n",
        "\n"
      ],
      "metadata": {
        "id": "WOepOP0flEj8"
      }
    },
    {
      "cell_type": "code",
      "source": [
        "# Insert your query and your reference here and then run the cells below to check each metric\n",
        "# Repeat for the following 4 unique queries for your database\n",
        "query = \"How does interior design impact well-being, according to Brook?\"\n",
        "reference=\"Brook explains that interior design can significantly affect well-being through the psychological effects of color and environment. For example, pink is soothing, blue is calming, red can induce anxiety, orange can increase hunger, and yellow brings cheerfulness. She emphasizes that design can create healing environments, and that colors and their specific shades can influence emotions and mental states.\"\n",
        "context, generation = RAG(query, documents, embeddings, k=3)\n",
        "print(context)\n",
        "print(generation)"
      ],
      "metadata": {
        "id": "jCnLkVuifO2_",
        "colab": {
          "base_uri": "https://localhost:8080/",
          "height": 89
        },
        "outputId": "b5caf1bc-94fd-44db-cce2-00f6cfe45b2a"
      },
      "execution_count": null,
      "outputs": [
        {
          "output_type": "stream",
          "name": "stdout",
          "text": [
            "[\"Like even interior design, you know, creating everything from healing environments, you know, you can use color, like a moth pink is one of the most soothing, yeah, blue is calming, red, you know, can actually induce anxiety. Orange is will make you hungry. Yeah. So, you know, every color has its association, you know, black can absolutely be sophisticated. But if you surround yourself in too much black, it can, you know, start to pull you into the darkness a little bit more. So, yellow, so you can counter that with a little yellow, which will make you feel cheerful. So, you know, a green, you know, is growing. So there's and then it gets even down to the specific shade. Yeah. So it's, and there are people that just do that for a living, you know, they they only work with color.\", \"Brooke  22:54  \\nWell, I probably at today, now originally, it definitely would have been fashion, because I used to look at people and I would design clothes for them in my head and just like a random stranger on the street and be like, let me just put this on you. But today, I would probably do. Maybe interior design or visual communications. Visual Communications is really fluid, it's creating environments, it could include sound, lighting, it's really developing experiences for people. So you can bring in multimedia. So it's got a lot of freedom in the field. I'm also a yoga person. So I am really fascinated with just that connection between like, you know, our mind, our body and our and the environment, and how that all works together. So I think that could the visual communications could really make that an interesting experience.\\n\\n\\n\\n\\nInterviewer  24:03  \\nIs there someone that you look up to or that inspired you? Um,\", \"\\ufeffInterviewee: Brook Ewoldsen\\nIndustry Sectors: Fashion and Interior Design\\nSource: https://soundcloud.com/what-to-be/fashion-institute-of-design-fidm-guest-speaker-brook-ewoldsen?utm_source=clipboard&utm_medium=text&utm_campaign=social_sharinghttps://soundcloud.com/what-to-be/fashion-institute-of-design-fidm-guest-speaker-brook-ewoldsen?utm_source=clipboard&utm_medium=text&utm_campaign=social_sharing\\n\\n\\n\\n\\n\\n\\n\\n\\n# INTRO\\nInterviewer  0:04  \\nYou're listening to k squared Santa Cruz at 90.7 FM. My name is Interviewer and I am an intern at Your futures our business, a Santa Cruz County nonprofit which helps students ages 10 to 18. Explore Careers and start their career journey. We provide career expos, panels, guest speakers and more. Today I'm here with my other host Interviewer.\"]\n",
            "According to Brook, interior design significantly impacts well-being through the use of color. She mentions that colors can evoke specific emotions and associations: moth pink is soothing, blue is calming, red can induce anxiety, and orange can stimulate hunger. While black can be sophisticated, too much of it might be depressing, and yellow can be used to counter that with cheerfulness. Green is associated with growth. Brook is also fascinated by the connection between mind, body, and environment, and how visual communications can create interesting experiences.\n",
            "\n"
          ]
        }
      ]
    },
    {
      "cell_type": "code",
      "source": [
        "#IMPLEMENTATION OF Context Precision\n",
        "from ragas import SingleTurnSample\n",
        "from ragas.metrics import LLMContextPrecisionWithoutReference\n",
        "\n",
        "context_precision = LLMContextPrecisionWithoutReference(llm=evaluator_llm)\n",
        "\n",
        "sample = SingleTurnSample(\n",
        "    user_input=query,\n",
        "    response=generation,\n",
        "    retrieved_contexts=context,\n",
        ")\n",
        "await context_precision.single_turn_ascore(sample)"
      ],
      "metadata": {
        "id": "VnBNBgqDz4MS",
        "colab": {
          "base_uri": "https://localhost:8080/"
        },
        "outputId": "0f2463fb-6b9a-48ad-a3f6-6745082ba417"
      },
      "execution_count": null,
      "outputs": [
        {
          "output_type": "execute_result",
          "data": {
            "text/plain": [
              "0.9999999999"
            ]
          },
          "metadata": {},
          "execution_count": 22
        }
      ]
    },
    {
      "cell_type": "code",
      "source": [
        "#IMPLEMENTATION OF Context Recall\n",
        "from ragas.dataset_schema import SingleTurnSample\n",
        "from ragas.metrics import LLMContextRecall\n",
        "\n",
        "sample = SingleTurnSample(\n",
        "    user_input=query,\n",
        "    response=generation,\n",
        "    reference=reference,\n",
        "    retrieved_contexts=context,\n",
        ")\n",
        "\n",
        "context_recall = LLMContextRecall(llm=evaluator_llm)\n",
        "await context_recall.single_turn_ascore(sample)"
      ],
      "metadata": {
        "id": "OaLxDgFAoho1",
        "colab": {
          "base_uri": "https://localhost:8080/"
        },
        "outputId": "dfbe8906-29a6-4139-9883-6ca0a0c1caa5"
      },
      "execution_count": null,
      "outputs": [
        {
          "output_type": "execute_result",
          "data": {
            "text/plain": [
              "1.0"
            ]
          },
          "metadata": {},
          "execution_count": 26
        }
      ]
    },
    {
      "cell_type": "code",
      "source": [
        "#IMPLEMENTATION OF Content Entities Recall\n",
        "from ragas import SingleTurnSample\n",
        "from ragas.metrics import ContextEntityRecall\n",
        "\n",
        "sample = SingleTurnSample(\n",
        "    reference=generation,\n",
        "    retrieved_contexts=context,\n",
        ")\n",
        "\n",
        "scorer = ContextEntityRecall(llm=evaluator_llm)\n",
        "\n",
        "await scorer.single_turn_ascore(sample)"
      ],
      "metadata": {
        "id": "6ug4RUlgokGJ",
        "colab": {
          "base_uri": "https://localhost:8080/"
        },
        "outputId": "513ab566-c933-4c4d-a261-5726cf299d13"
      },
      "execution_count": null,
      "outputs": [
        {
          "output_type": "execute_result",
          "data": {
            "text/plain": [
              "0.14285714265306124"
            ]
          },
          "metadata": {},
          "execution_count": 29
        }
      ]
    },
    {
      "cell_type": "code",
      "source": [
        "#IMPLEMENTATION OF Noise Sensitivity\n",
        "from ragas.dataset_schema import SingleTurnSample\n",
        "from ragas.metrics import NoiseSensitivity\n",
        "\n",
        "sample = SingleTurnSample(\n",
        "    user_input=query,\n",
        "    response=generation,\n",
        "    reference=reference,\n",
        "    retrieved_contexts=context\n",
        ")\n",
        "\n",
        "scorer = NoiseSensitivity(llm=evaluator_llm)\n",
        "await scorer.single_turn_ascore(sample)"
      ],
      "metadata": {
        "id": "Zk3ONDwPna2b",
        "colab": {
          "base_uri": "https://localhost:8080/"
        },
        "outputId": "7034dc2f-b2ac-4b38-b57f-e32c6dc4d10a"
      },
      "execution_count": null,
      "outputs": [
        {
          "output_type": "execute_result",
          "data": {
            "text/plain": [
              "np.float64(0.7272727272727273)"
            ]
          },
          "metadata": {},
          "execution_count": 23
        }
      ]
    },
    {
      "cell_type": "code",
      "source": [
        "#IMPLEMENTATION OF Faithfulness\n",
        "from ragas.dataset_schema import SingleTurnSample\n",
        "from ragas.metrics import Faithfulness\n",
        "\n",
        "sample = SingleTurnSample(\n",
        "        user_input=query,\n",
        "        response=generation,\n",
        "        retrieved_contexts=context\n",
        "    )\n",
        "scorer = Faithfulness(llm=evaluator_llm)\n",
        "await scorer.single_turn_ascore(sample)"
      ],
      "metadata": {
        "id": "G0PL1fXKncNZ",
        "colab": {
          "base_uri": "https://localhost:8080/"
        },
        "outputId": "1a3fdc8f-8a5f-4182-bbee-a080f4386def"
      },
      "execution_count": null,
      "outputs": [
        {
          "output_type": "execute_result",
          "data": {
            "text/plain": [
              "1.0"
            ]
          },
          "metadata": {},
          "execution_count": 32
        }
      ]
    },
    {
      "cell_type": "code",
      "source": [
        "#IMPLEMENTATION OF relevancy\n",
        "from ragas.dataset_schema import SingleTurnSample\n",
        "from ragas.metrics import ResponseRelevancy\n",
        "\n",
        "sample = SingleTurnSample(\n",
        "        user_input=query,\n",
        "        response=generation,\n",
        "        retrieved_contexts=context\n",
        "    )\n",
        "scorer = ResponseRelevancy(llm=evaluator_llm)\n",
        "await scorer.single_turn_ascore(sample)"
      ],
      "metadata": {
        "colab": {
          "base_uri": "https://localhost:8080/",
          "height": 384
        },
        "id": "Oludx3dXKlau",
        "outputId": "3424b4c6-f726-456b-d0de-fd18167bf716"
      },
      "execution_count": null,
      "outputs": [
        {
          "output_type": "error",
          "ename": "ImportError",
          "evalue": "cannot import name 'SentenceTransformerEmbeddings' from 'ragas.embeddings' (/usr/local/lib/python3.11/dist-packages/ragas/embeddings/__init__.py)",
          "traceback": [
            "\u001b[0;31m---------------------------------------------------------------------------\u001b[0m",
            "\u001b[0;31mImportError\u001b[0m                               Traceback (most recent call last)",
            "\u001b[0;32m<ipython-input-30-fcf8625d0c6b>\u001b[0m in \u001b[0;36m<cell line: 0>\u001b[0;34m()\u001b[0m\n\u001b[1;32m      1\u001b[0m \u001b[0;32mfrom\u001b[0m \u001b[0mragas\u001b[0m\u001b[0;34m.\u001b[0m\u001b[0mmetrics\u001b[0m \u001b[0;32mimport\u001b[0m \u001b[0mResponseRelevancy\u001b[0m\u001b[0;34m\u001b[0m\u001b[0;34m\u001b[0m\u001b[0m\n\u001b[0;32m----> 2\u001b[0;31m \u001b[0;32mfrom\u001b[0m \u001b[0mragas\u001b[0m\u001b[0;34m.\u001b[0m\u001b[0membeddings\u001b[0m \u001b[0;32mimport\u001b[0m \u001b[0mSentenceTransformerEmbeddings\u001b[0m  \u001b[0;31m# or OpenAIEmbeddings if you're using OpenAI\u001b[0m\u001b[0;34m\u001b[0m\u001b[0;34m\u001b[0m\u001b[0m\n\u001b[0m\u001b[1;32m      3\u001b[0m \u001b[0;34m\u001b[0m\u001b[0m\n\u001b[1;32m      4\u001b[0m \u001b[0;31m# 1. Initialize embeddings\u001b[0m\u001b[0;34m\u001b[0m\u001b[0;34m\u001b[0m\u001b[0m\n\u001b[1;32m      5\u001b[0m \u001b[0membeddings\u001b[0m \u001b[0;34m=\u001b[0m \u001b[0mSentenceTransformerEmbeddings\u001b[0m\u001b[0;34m(\u001b[0m\u001b[0mmodel_name\u001b[0m\u001b[0;34m=\u001b[0m\u001b[0;34m\"all-MiniLM-L6-v2\"\u001b[0m\u001b[0;34m)\u001b[0m  \u001b[0;31m# You can use any compatible sentence transformer\u001b[0m\u001b[0;34m\u001b[0m\u001b[0;34m\u001b[0m\u001b[0m\n",
            "\u001b[0;31mImportError\u001b[0m: cannot import name 'SentenceTransformerEmbeddings' from 'ragas.embeddings' (/usr/local/lib/python3.11/dist-packages/ragas/embeddings/__init__.py)",
            "",
            "\u001b[0;31m---------------------------------------------------------------------------\u001b[0;32m\nNOTE: If your import is failing due to a missing package, you can\nmanually install dependencies using either !pip or !apt.\n\nTo view examples of installing some common dependencies, click the\n\"Open Examples\" button below.\n\u001b[0;31m---------------------------------------------------------------------------\u001b[0m\n"
          ],
          "errorDetails": {
            "actions": [
              {
                "action": "open_url",
                "actionText": "Open Examples",
                "url": "/notebooks/snippets/importing_libraries.ipynb"
              }
            ]
          }
        }
      ]
    }
  ]
}