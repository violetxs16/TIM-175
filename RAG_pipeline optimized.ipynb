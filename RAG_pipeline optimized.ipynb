{
  "cells": [
    {
      "cell_type": "markdown",
      "metadata": {
        "id": "ONKnBm99vUxG"
      },
      "source": [
        "# AI Powered Advisory System\n",
        "This notebook implements an AI-powered career advisory system designed to provide students with grounded career insights from professional podcast interviews.\n",
        "\n",
        "## RAG Implementation: Code for Interfacing with Vector DB\n",
        "The code below sets up and interfaces with a vector database to retrieve relevant \"What-To-Be\" podcast excerpts for the RAG pipeline."
      ]
    },
    {
      "cell_type": "markdown",
      "metadata": {
        "id": "EI_CfdEMkCsb"
      },
      "source": [
        "# Setup background libraries\n",
        "\n",
        "**You should just run the below cell once.**\n",
        "\n",
        "Running the below code will install all the necessary packages to query the vector database and perform RAG.\n"
      ]
    },
    {
      "cell_type": "code",
      "execution_count": 72,
      "metadata": {
        "id": "QZq-LD08F4Gn",
        "colab": {
          "base_uri": "https://localhost:8080/"
        },
        "outputId": "f61b2b0a-f18c-45ed-fb3f-f0ba0844a08e"
      },
      "outputs": [
        {
          "output_type": "stream",
          "name": "stdout",
          "text": [
            "Requirement already satisfied: openai in /usr/local/lib/python3.11/dist-packages (1.97.0)\n",
            "Requirement already satisfied: anyio<5,>=3.5.0 in /usr/local/lib/python3.11/dist-packages (from openai) (4.9.0)\n",
            "Requirement already satisfied: distro<2,>=1.7.0 in /usr/local/lib/python3.11/dist-packages (from openai) (1.9.0)\n",
            "Requirement already satisfied: httpx<1,>=0.23.0 in /usr/local/lib/python3.11/dist-packages (from openai) (0.28.1)\n",
            "Requirement already satisfied: jiter<1,>=0.4.0 in /usr/local/lib/python3.11/dist-packages (from openai) (0.10.0)\n",
            "Requirement already satisfied: pydantic<3,>=1.9.0 in /usr/local/lib/python3.11/dist-packages (from openai) (2.11.7)\n",
            "Requirement already satisfied: sniffio in /usr/local/lib/python3.11/dist-packages (from openai) (1.3.1)\n",
            "Requirement already satisfied: tqdm>4 in /usr/local/lib/python3.11/dist-packages (from openai) (4.67.1)\n",
            "Requirement already satisfied: typing-extensions<5,>=4.11 in /usr/local/lib/python3.11/dist-packages (from openai) (4.14.1)\n",
            "Requirement already satisfied: idna>=2.8 in /usr/local/lib/python3.11/dist-packages (from anyio<5,>=3.5.0->openai) (3.10)\n",
            "Requirement already satisfied: certifi in /usr/local/lib/python3.11/dist-packages (from httpx<1,>=0.23.0->openai) (2025.7.14)\n",
            "Requirement already satisfied: httpcore==1.* in /usr/local/lib/python3.11/dist-packages (from httpx<1,>=0.23.0->openai) (1.0.9)\n",
            "Requirement already satisfied: h11>=0.16 in /usr/local/lib/python3.11/dist-packages (from httpcore==1.*->httpx<1,>=0.23.0->openai) (0.16.0)\n",
            "Requirement already satisfied: annotated-types>=0.6.0 in /usr/local/lib/python3.11/dist-packages (from pydantic<3,>=1.9.0->openai) (0.7.0)\n",
            "Requirement already satisfied: pydantic-core==2.33.2 in /usr/local/lib/python3.11/dist-packages (from pydantic<3,>=1.9.0->openai) (2.33.2)\n",
            "Requirement already satisfied: typing-inspection>=0.4.0 in /usr/local/lib/python3.11/dist-packages (from pydantic<3,>=1.9.0->openai) (0.4.1)\n",
            "Requirement already satisfied: pinecone in /usr/local/lib/python3.11/dist-packages (7.3.0)\n",
            "Requirement already satisfied: certifi>=2019.11.17 in /usr/local/lib/python3.11/dist-packages (from pinecone) (2025.7.14)\n",
            "Requirement already satisfied: pinecone-plugin-assistant<2.0.0,>=1.6.0 in /usr/local/lib/python3.11/dist-packages (from pinecone) (1.7.0)\n",
            "Requirement already satisfied: pinecone-plugin-interface<0.0.8,>=0.0.7 in /usr/local/lib/python3.11/dist-packages (from pinecone) (0.0.7)\n",
            "Requirement already satisfied: python-dateutil>=2.5.3 in /usr/local/lib/python3.11/dist-packages (from pinecone) (2.9.0.post0)\n",
            "Requirement already satisfied: typing-extensions>=3.7.4 in /usr/local/lib/python3.11/dist-packages (from pinecone) (4.14.1)\n",
            "Requirement already satisfied: urllib3>=1.26.0 in /usr/local/lib/python3.11/dist-packages (from pinecone) (2.5.0)\n",
            "Requirement already satisfied: packaging<25.0,>=24.2 in /usr/local/lib/python3.11/dist-packages (from pinecone-plugin-assistant<2.0.0,>=1.6.0->pinecone) (24.2)\n",
            "Requirement already satisfied: requests<3.0.0,>=2.32.3 in /usr/local/lib/python3.11/dist-packages (from pinecone-plugin-assistant<2.0.0,>=1.6.0->pinecone) (2.32.3)\n",
            "Requirement already satisfied: six>=1.5 in /usr/local/lib/python3.11/dist-packages (from python-dateutil>=2.5.3->pinecone) (1.17.0)\n",
            "Requirement already satisfied: charset-normalizer<4,>=2 in /usr/local/lib/python3.11/dist-packages (from requests<3.0.0,>=2.32.3->pinecone-plugin-assistant<2.0.0,>=1.6.0->pinecone) (3.4.2)\n",
            "Requirement already satisfied: idna<4,>=2.5 in /usr/local/lib/python3.11/dist-packages (from requests<3.0.0,>=2.32.3->pinecone-plugin-assistant<2.0.0,>=1.6.0->pinecone) (3.10)\n",
            "Requirement already satisfied: langchain in /usr/local/lib/python3.11/dist-packages (0.3.26)\n",
            "Requirement already satisfied: langchain-core<1.0.0,>=0.3.66 in /usr/local/lib/python3.11/dist-packages (from langchain) (0.3.69)\n",
            "Requirement already satisfied: langchain-text-splitters<1.0.0,>=0.3.8 in /usr/local/lib/python3.11/dist-packages (from langchain) (0.3.8)\n",
            "Requirement already satisfied: langsmith>=0.1.17 in /usr/local/lib/python3.11/dist-packages (from langchain) (0.4.7)\n",
            "Requirement already satisfied: pydantic<3.0.0,>=2.7.4 in /usr/local/lib/python3.11/dist-packages (from langchain) (2.11.7)\n",
            "Requirement already satisfied: SQLAlchemy<3,>=1.4 in /usr/local/lib/python3.11/dist-packages (from langchain) (2.0.41)\n",
            "Requirement already satisfied: requests<3,>=2 in /usr/local/lib/python3.11/dist-packages (from langchain) (2.32.3)\n",
            "Requirement already satisfied: PyYAML>=5.3 in /usr/local/lib/python3.11/dist-packages (from langchain) (6.0.2)\n",
            "Requirement already satisfied: tenacity!=8.4.0,<10.0.0,>=8.1.0 in /usr/local/lib/python3.11/dist-packages (from langchain-core<1.0.0,>=0.3.66->langchain) (8.5.0)\n",
            "Requirement already satisfied: jsonpatch<2.0,>=1.33 in /usr/local/lib/python3.11/dist-packages (from langchain-core<1.0.0,>=0.3.66->langchain) (1.33)\n",
            "Requirement already satisfied: typing-extensions>=4.7 in /usr/local/lib/python3.11/dist-packages (from langchain-core<1.0.0,>=0.3.66->langchain) (4.14.1)\n",
            "Requirement already satisfied: packaging>=23.2 in /usr/local/lib/python3.11/dist-packages (from langchain-core<1.0.0,>=0.3.66->langchain) (24.2)\n",
            "Requirement already satisfied: httpx<1,>=0.23.0 in /usr/local/lib/python3.11/dist-packages (from langsmith>=0.1.17->langchain) (0.28.1)\n",
            "Requirement already satisfied: orjson<4.0.0,>=3.9.14 in /usr/local/lib/python3.11/dist-packages (from langsmith>=0.1.17->langchain) (3.11.0)\n",
            "Requirement already satisfied: requests-toolbelt<2.0.0,>=1.0.0 in /usr/local/lib/python3.11/dist-packages (from langsmith>=0.1.17->langchain) (1.0.0)\n",
            "Requirement already satisfied: zstandard<0.24.0,>=0.23.0 in /usr/local/lib/python3.11/dist-packages (from langsmith>=0.1.17->langchain) (0.23.0)\n",
            "Requirement already satisfied: annotated-types>=0.6.0 in /usr/local/lib/python3.11/dist-packages (from pydantic<3.0.0,>=2.7.4->langchain) (0.7.0)\n",
            "Requirement already satisfied: pydantic-core==2.33.2 in /usr/local/lib/python3.11/dist-packages (from pydantic<3.0.0,>=2.7.4->langchain) (2.33.2)\n",
            "Requirement already satisfied: typing-inspection>=0.4.0 in /usr/local/lib/python3.11/dist-packages (from pydantic<3.0.0,>=2.7.4->langchain) (0.4.1)\n",
            "Requirement already satisfied: charset-normalizer<4,>=2 in /usr/local/lib/python3.11/dist-packages (from requests<3,>=2->langchain) (3.4.2)\n",
            "Requirement already satisfied: idna<4,>=2.5 in /usr/local/lib/python3.11/dist-packages (from requests<3,>=2->langchain) (3.10)\n",
            "Requirement already satisfied: urllib3<3,>=1.21.1 in /usr/local/lib/python3.11/dist-packages (from requests<3,>=2->langchain) (2.5.0)\n",
            "Requirement already satisfied: certifi>=2017.4.17 in /usr/local/lib/python3.11/dist-packages (from requests<3,>=2->langchain) (2025.7.14)\n",
            "Requirement already satisfied: greenlet>=1 in /usr/local/lib/python3.11/dist-packages (from SQLAlchemy<3,>=1.4->langchain) (3.2.3)\n",
            "Requirement already satisfied: anyio in /usr/local/lib/python3.11/dist-packages (from httpx<1,>=0.23.0->langsmith>=0.1.17->langchain) (4.9.0)\n",
            "Requirement already satisfied: httpcore==1.* in /usr/local/lib/python3.11/dist-packages (from httpx<1,>=0.23.0->langsmith>=0.1.17->langchain) (1.0.9)\n",
            "Requirement already satisfied: h11>=0.16 in /usr/local/lib/python3.11/dist-packages (from httpcore==1.*->httpx<1,>=0.23.0->langsmith>=0.1.17->langchain) (0.16.0)\n",
            "Requirement already satisfied: jsonpointer>=1.9 in /usr/local/lib/python3.11/dist-packages (from jsonpatch<2.0,>=1.33->langchain-core<1.0.0,>=0.3.66->langchain) (3.0.0)\n",
            "Requirement already satisfied: sniffio>=1.1 in /usr/local/lib/python3.11/dist-packages (from anyio->httpx<1,>=0.23.0->langsmith>=0.1.17->langchain) (1.3.1)\n",
            "Requirement already satisfied: langchain_community in /usr/local/lib/python3.11/dist-packages (0.3.27)\n",
            "Requirement already satisfied: langchain-core<1.0.0,>=0.3.66 in /usr/local/lib/python3.11/dist-packages (from langchain_community) (0.3.69)\n",
            "Requirement already satisfied: langchain<1.0.0,>=0.3.26 in /usr/local/lib/python3.11/dist-packages (from langchain_community) (0.3.26)\n",
            "Requirement already satisfied: SQLAlchemy<3,>=1.4 in /usr/local/lib/python3.11/dist-packages (from langchain_community) (2.0.41)\n",
            "Requirement already satisfied: requests<3,>=2 in /usr/local/lib/python3.11/dist-packages (from langchain_community) (2.32.3)\n",
            "Requirement already satisfied: PyYAML>=5.3 in /usr/local/lib/python3.11/dist-packages (from langchain_community) (6.0.2)\n",
            "Requirement already satisfied: aiohttp<4.0.0,>=3.8.3 in /usr/local/lib/python3.11/dist-packages (from langchain_community) (3.11.15)\n",
            "Requirement already satisfied: tenacity!=8.4.0,<10,>=8.1.0 in /usr/local/lib/python3.11/dist-packages (from langchain_community) (8.5.0)\n",
            "Requirement already satisfied: dataclasses-json<0.7,>=0.5.7 in /usr/local/lib/python3.11/dist-packages (from langchain_community) (0.6.7)\n",
            "Requirement already satisfied: pydantic-settings<3.0.0,>=2.4.0 in /usr/local/lib/python3.11/dist-packages (from langchain_community) (2.10.1)\n",
            "Requirement already satisfied: langsmith>=0.1.125 in /usr/local/lib/python3.11/dist-packages (from langchain_community) (0.4.7)\n",
            "Requirement already satisfied: httpx-sse<1.0.0,>=0.4.0 in /usr/local/lib/python3.11/dist-packages (from langchain_community) (0.4.1)\n",
            "Requirement already satisfied: numpy>=1.26.2 in /usr/local/lib/python3.11/dist-packages (from langchain_community) (2.0.2)\n",
            "Requirement already satisfied: aiohappyeyeballs>=2.3.0 in /usr/local/lib/python3.11/dist-packages (from aiohttp<4.0.0,>=3.8.3->langchain_community) (2.6.1)\n",
            "Requirement already satisfied: aiosignal>=1.1.2 in /usr/local/lib/python3.11/dist-packages (from aiohttp<4.0.0,>=3.8.3->langchain_community) (1.4.0)\n",
            "Requirement already satisfied: attrs>=17.3.0 in /usr/local/lib/python3.11/dist-packages (from aiohttp<4.0.0,>=3.8.3->langchain_community) (25.3.0)\n",
            "Requirement already satisfied: frozenlist>=1.1.1 in /usr/local/lib/python3.11/dist-packages (from aiohttp<4.0.0,>=3.8.3->langchain_community) (1.7.0)\n",
            "Requirement already satisfied: multidict<7.0,>=4.5 in /usr/local/lib/python3.11/dist-packages (from aiohttp<4.0.0,>=3.8.3->langchain_community) (6.6.3)\n",
            "Requirement already satisfied: propcache>=0.2.0 in /usr/local/lib/python3.11/dist-packages (from aiohttp<4.0.0,>=3.8.3->langchain_community) (0.3.2)\n",
            "Requirement already satisfied: yarl<2.0,>=1.17.0 in /usr/local/lib/python3.11/dist-packages (from aiohttp<4.0.0,>=3.8.3->langchain_community) (1.20.1)\n",
            "Requirement already satisfied: marshmallow<4.0.0,>=3.18.0 in /usr/local/lib/python3.11/dist-packages (from dataclasses-json<0.7,>=0.5.7->langchain_community) (3.26.1)\n",
            "Requirement already satisfied: typing-inspect<1,>=0.4.0 in /usr/local/lib/python3.11/dist-packages (from dataclasses-json<0.7,>=0.5.7->langchain_community) (0.9.0)\n",
            "Requirement already satisfied: langchain-text-splitters<1.0.0,>=0.3.8 in /usr/local/lib/python3.11/dist-packages (from langchain<1.0.0,>=0.3.26->langchain_community) (0.3.8)\n",
            "Requirement already satisfied: pydantic<3.0.0,>=2.7.4 in /usr/local/lib/python3.11/dist-packages (from langchain<1.0.0,>=0.3.26->langchain_community) (2.11.7)\n",
            "Requirement already satisfied: jsonpatch<2.0,>=1.33 in /usr/local/lib/python3.11/dist-packages (from langchain-core<1.0.0,>=0.3.66->langchain_community) (1.33)\n",
            "Requirement already satisfied: typing-extensions>=4.7 in /usr/local/lib/python3.11/dist-packages (from langchain-core<1.0.0,>=0.3.66->langchain_community) (4.14.1)\n",
            "Requirement already satisfied: packaging>=23.2 in /usr/local/lib/python3.11/dist-packages (from langchain-core<1.0.0,>=0.3.66->langchain_community) (24.2)\n",
            "Requirement already satisfied: httpx<1,>=0.23.0 in /usr/local/lib/python3.11/dist-packages (from langsmith>=0.1.125->langchain_community) (0.28.1)\n",
            "Requirement already satisfied: orjson<4.0.0,>=3.9.14 in /usr/local/lib/python3.11/dist-packages (from langsmith>=0.1.125->langchain_community) (3.11.0)\n",
            "Requirement already satisfied: requests-toolbelt<2.0.0,>=1.0.0 in /usr/local/lib/python3.11/dist-packages (from langsmith>=0.1.125->langchain_community) (1.0.0)\n",
            "Requirement already satisfied: zstandard<0.24.0,>=0.23.0 in /usr/local/lib/python3.11/dist-packages (from langsmith>=0.1.125->langchain_community) (0.23.0)\n",
            "Requirement already satisfied: python-dotenv>=0.21.0 in /usr/local/lib/python3.11/dist-packages (from pydantic-settings<3.0.0,>=2.4.0->langchain_community) (1.1.1)\n",
            "Requirement already satisfied: typing-inspection>=0.4.0 in /usr/local/lib/python3.11/dist-packages (from pydantic-settings<3.0.0,>=2.4.0->langchain_community) (0.4.1)\n",
            "Requirement already satisfied: charset-normalizer<4,>=2 in /usr/local/lib/python3.11/dist-packages (from requests<3,>=2->langchain_community) (3.4.2)\n",
            "Requirement already satisfied: idna<4,>=2.5 in /usr/local/lib/python3.11/dist-packages (from requests<3,>=2->langchain_community) (3.10)\n",
            "Requirement already satisfied: urllib3<3,>=1.21.1 in /usr/local/lib/python3.11/dist-packages (from requests<3,>=2->langchain_community) (2.5.0)\n",
            "Requirement already satisfied: certifi>=2017.4.17 in /usr/local/lib/python3.11/dist-packages (from requests<3,>=2->langchain_community) (2025.7.14)\n",
            "Requirement already satisfied: greenlet>=1 in /usr/local/lib/python3.11/dist-packages (from SQLAlchemy<3,>=1.4->langchain_community) (3.2.3)\n",
            "Requirement already satisfied: anyio in /usr/local/lib/python3.11/dist-packages (from httpx<1,>=0.23.0->langsmith>=0.1.125->langchain_community) (4.9.0)\n",
            "Requirement already satisfied: httpcore==1.* in /usr/local/lib/python3.11/dist-packages (from httpx<1,>=0.23.0->langsmith>=0.1.125->langchain_community) (1.0.9)\n",
            "Requirement already satisfied: h11>=0.16 in /usr/local/lib/python3.11/dist-packages (from httpcore==1.*->httpx<1,>=0.23.0->langsmith>=0.1.125->langchain_community) (0.16.0)\n",
            "Requirement already satisfied: jsonpointer>=1.9 in /usr/local/lib/python3.11/dist-packages (from jsonpatch<2.0,>=1.33->langchain-core<1.0.0,>=0.3.66->langchain_community) (3.0.0)\n",
            "Requirement already satisfied: annotated-types>=0.6.0 in /usr/local/lib/python3.11/dist-packages (from pydantic<3.0.0,>=2.7.4->langchain<1.0.0,>=0.3.26->langchain_community) (0.7.0)\n",
            "Requirement already satisfied: pydantic-core==2.33.2 in /usr/local/lib/python3.11/dist-packages (from pydantic<3.0.0,>=2.7.4->langchain<1.0.0,>=0.3.26->langchain_community) (2.33.2)\n",
            "Requirement already satisfied: mypy-extensions>=0.3.0 in /usr/local/lib/python3.11/dist-packages (from typing-inspect<1,>=0.4.0->dataclasses-json<0.7,>=0.5.7->langchain_community) (1.1.0)\n",
            "Requirement already satisfied: sniffio>=1.1 in /usr/local/lib/python3.11/dist-packages (from anyio->httpx<1,>=0.23.0->langsmith>=0.1.125->langchain_community) (1.3.1)\n",
            "Requirement already satisfied: langchain_openai in /usr/local/lib/python3.11/dist-packages (0.3.28)\n",
            "Requirement already satisfied: langchain-core<1.0.0,>=0.3.68 in /usr/local/lib/python3.11/dist-packages (from langchain_openai) (0.3.69)\n",
            "Requirement already satisfied: openai<2.0.0,>=1.86.0 in /usr/local/lib/python3.11/dist-packages (from langchain_openai) (1.97.0)\n",
            "Requirement already satisfied: tiktoken<1,>=0.7 in /usr/local/lib/python3.11/dist-packages (from langchain_openai) (0.9.0)\n",
            "Requirement already satisfied: langsmith>=0.3.45 in /usr/local/lib/python3.11/dist-packages (from langchain-core<1.0.0,>=0.3.68->langchain_openai) (0.4.7)\n",
            "Requirement already satisfied: tenacity!=8.4.0,<10.0.0,>=8.1.0 in /usr/local/lib/python3.11/dist-packages (from langchain-core<1.0.0,>=0.3.68->langchain_openai) (8.5.0)\n",
            "Requirement already satisfied: jsonpatch<2.0,>=1.33 in /usr/local/lib/python3.11/dist-packages (from langchain-core<1.0.0,>=0.3.68->langchain_openai) (1.33)\n",
            "Requirement already satisfied: PyYAML>=5.3 in /usr/local/lib/python3.11/dist-packages (from langchain-core<1.0.0,>=0.3.68->langchain_openai) (6.0.2)\n",
            "Requirement already satisfied: typing-extensions>=4.7 in /usr/local/lib/python3.11/dist-packages (from langchain-core<1.0.0,>=0.3.68->langchain_openai) (4.14.1)\n",
            "Requirement already satisfied: packaging>=23.2 in /usr/local/lib/python3.11/dist-packages (from langchain-core<1.0.0,>=0.3.68->langchain_openai) (24.2)\n",
            "Requirement already satisfied: pydantic>=2.7.4 in /usr/local/lib/python3.11/dist-packages (from langchain-core<1.0.0,>=0.3.68->langchain_openai) (2.11.7)\n",
            "Requirement already satisfied: anyio<5,>=3.5.0 in /usr/local/lib/python3.11/dist-packages (from openai<2.0.0,>=1.86.0->langchain_openai) (4.9.0)\n",
            "Requirement already satisfied: distro<2,>=1.7.0 in /usr/local/lib/python3.11/dist-packages (from openai<2.0.0,>=1.86.0->langchain_openai) (1.9.0)\n",
            "Requirement already satisfied: httpx<1,>=0.23.0 in /usr/local/lib/python3.11/dist-packages (from openai<2.0.0,>=1.86.0->langchain_openai) (0.28.1)\n",
            "Requirement already satisfied: jiter<1,>=0.4.0 in /usr/local/lib/python3.11/dist-packages (from openai<2.0.0,>=1.86.0->langchain_openai) (0.10.0)\n",
            "Requirement already satisfied: sniffio in /usr/local/lib/python3.11/dist-packages (from openai<2.0.0,>=1.86.0->langchain_openai) (1.3.1)\n",
            "Requirement already satisfied: tqdm>4 in /usr/local/lib/python3.11/dist-packages (from openai<2.0.0,>=1.86.0->langchain_openai) (4.67.1)\n",
            "Requirement already satisfied: regex>=2022.1.18 in /usr/local/lib/python3.11/dist-packages (from tiktoken<1,>=0.7->langchain_openai) (2024.11.6)\n",
            "Requirement already satisfied: requests>=2.26.0 in /usr/local/lib/python3.11/dist-packages (from tiktoken<1,>=0.7->langchain_openai) (2.32.3)\n",
            "Requirement already satisfied: idna>=2.8 in /usr/local/lib/python3.11/dist-packages (from anyio<5,>=3.5.0->openai<2.0.0,>=1.86.0->langchain_openai) (3.10)\n",
            "Requirement already satisfied: certifi in /usr/local/lib/python3.11/dist-packages (from httpx<1,>=0.23.0->openai<2.0.0,>=1.86.0->langchain_openai) (2025.7.14)\n",
            "Requirement already satisfied: httpcore==1.* in /usr/local/lib/python3.11/dist-packages (from httpx<1,>=0.23.0->openai<2.0.0,>=1.86.0->langchain_openai) (1.0.9)\n",
            "Requirement already satisfied: h11>=0.16 in /usr/local/lib/python3.11/dist-packages (from httpcore==1.*->httpx<1,>=0.23.0->openai<2.0.0,>=1.86.0->langchain_openai) (0.16.0)\n",
            "Requirement already satisfied: jsonpointer>=1.9 in /usr/local/lib/python3.11/dist-packages (from jsonpatch<2.0,>=1.33->langchain-core<1.0.0,>=0.3.68->langchain_openai) (3.0.0)\n",
            "Requirement already satisfied: orjson<4.0.0,>=3.9.14 in /usr/local/lib/python3.11/dist-packages (from langsmith>=0.3.45->langchain-core<1.0.0,>=0.3.68->langchain_openai) (3.11.0)\n",
            "Requirement already satisfied: requests-toolbelt<2.0.0,>=1.0.0 in /usr/local/lib/python3.11/dist-packages (from langsmith>=0.3.45->langchain-core<1.0.0,>=0.3.68->langchain_openai) (1.0.0)\n",
            "Requirement already satisfied: zstandard<0.24.0,>=0.23.0 in /usr/local/lib/python3.11/dist-packages (from langsmith>=0.3.45->langchain-core<1.0.0,>=0.3.68->langchain_openai) (0.23.0)\n",
            "Requirement already satisfied: annotated-types>=0.6.0 in /usr/local/lib/python3.11/dist-packages (from pydantic>=2.7.4->langchain-core<1.0.0,>=0.3.68->langchain_openai) (0.7.0)\n",
            "Requirement already satisfied: pydantic-core==2.33.2 in /usr/local/lib/python3.11/dist-packages (from pydantic>=2.7.4->langchain-core<1.0.0,>=0.3.68->langchain_openai) (2.33.2)\n",
            "Requirement already satisfied: typing-inspection>=0.4.0 in /usr/local/lib/python3.11/dist-packages (from pydantic>=2.7.4->langchain-core<1.0.0,>=0.3.68->langchain_openai) (0.4.1)\n",
            "Requirement already satisfied: charset-normalizer<4,>=2 in /usr/local/lib/python3.11/dist-packages (from requests>=2.26.0->tiktoken<1,>=0.7->langchain_openai) (3.4.2)\n",
            "Requirement already satisfied: urllib3<3,>=1.21.1 in /usr/local/lib/python3.11/dist-packages (from requests>=2.26.0->tiktoken<1,>=0.7->langchain_openai) (2.5.0)\n",
            "Requirement already satisfied: langchain_pinecone in /usr/local/lib/python3.11/dist-packages (0.2.9)\n",
            "Requirement already satisfied: langchain-core<1.0.0,>=0.3.34 in /usr/local/lib/python3.11/dist-packages (from langchain_pinecone) (0.3.69)\n",
            "Requirement already satisfied: pinecone<8.0.0,>=6.0.0 in /usr/local/lib/python3.11/dist-packages (from pinecone[asyncio]<8.0.0,>=6.0.0->langchain_pinecone) (7.3.0)\n",
            "Requirement already satisfied: numpy>=1.26.4 in /usr/local/lib/python3.11/dist-packages (from langchain_pinecone) (2.0.2)\n",
            "Requirement already satisfied: langchain-tests<1.0.0,>=0.3.7 in /usr/local/lib/python3.11/dist-packages (from langchain_pinecone) (0.3.20)\n",
            "Requirement already satisfied: langchain-openai>=0.3.11 in /usr/local/lib/python3.11/dist-packages (from langchain_pinecone) (0.3.28)\n",
            "Requirement already satisfied: langsmith>=0.3.45 in /usr/local/lib/python3.11/dist-packages (from langchain-core<1.0.0,>=0.3.34->langchain_pinecone) (0.4.7)\n",
            "Requirement already satisfied: tenacity!=8.4.0,<10.0.0,>=8.1.0 in /usr/local/lib/python3.11/dist-packages (from langchain-core<1.0.0,>=0.3.34->langchain_pinecone) (8.5.0)\n",
            "Requirement already satisfied: jsonpatch<2.0,>=1.33 in /usr/local/lib/python3.11/dist-packages (from langchain-core<1.0.0,>=0.3.34->langchain_pinecone) (1.33)\n",
            "Requirement already satisfied: PyYAML>=5.3 in /usr/local/lib/python3.11/dist-packages (from langchain-core<1.0.0,>=0.3.34->langchain_pinecone) (6.0.2)\n",
            "Requirement already satisfied: typing-extensions>=4.7 in /usr/local/lib/python3.11/dist-packages (from langchain-core<1.0.0,>=0.3.34->langchain_pinecone) (4.14.1)\n",
            "Requirement already satisfied: packaging>=23.2 in /usr/local/lib/python3.11/dist-packages (from langchain-core<1.0.0,>=0.3.34->langchain_pinecone) (24.2)\n",
            "Requirement already satisfied: pydantic>=2.7.4 in /usr/local/lib/python3.11/dist-packages (from langchain-core<1.0.0,>=0.3.34->langchain_pinecone) (2.11.7)\n",
            "Requirement already satisfied: openai<2.0.0,>=1.86.0 in /usr/local/lib/python3.11/dist-packages (from langchain-openai>=0.3.11->langchain_pinecone) (1.97.0)\n",
            "Requirement already satisfied: tiktoken<1,>=0.7 in /usr/local/lib/python3.11/dist-packages (from langchain-openai>=0.3.11->langchain_pinecone) (0.9.0)\n",
            "Requirement already satisfied: pytest<9,>=7 in /usr/local/lib/python3.11/dist-packages (from langchain-tests<1.0.0,>=0.3.7->langchain_pinecone) (8.4.1)\n",
            "Requirement already satisfied: pytest-asyncio<1,>=0.20 in /usr/local/lib/python3.11/dist-packages (from langchain-tests<1.0.0,>=0.3.7->langchain_pinecone) (0.26.0)\n",
            "Requirement already satisfied: httpx<1,>=0.25.0 in /usr/local/lib/python3.11/dist-packages (from langchain-tests<1.0.0,>=0.3.7->langchain_pinecone) (0.28.1)\n",
            "Requirement already satisfied: syrupy<5,>=4 in /usr/local/lib/python3.11/dist-packages (from langchain-tests<1.0.0,>=0.3.7->langchain_pinecone) (4.9.1)\n",
            "Requirement already satisfied: pytest-socket<1,>=0.6.0 in /usr/local/lib/python3.11/dist-packages (from langchain-tests<1.0.0,>=0.3.7->langchain_pinecone) (0.7.0)\n",
            "Requirement already satisfied: pytest-benchmark in /usr/local/lib/python3.11/dist-packages (from langchain-tests<1.0.0,>=0.3.7->langchain_pinecone) (5.1.0)\n",
            "Requirement already satisfied: pytest-codspeed in /usr/local/lib/python3.11/dist-packages (from langchain-tests<1.0.0,>=0.3.7->langchain_pinecone) (4.0.0)\n",
            "Requirement already satisfied: pytest-recording in /usr/local/lib/python3.11/dist-packages (from langchain-tests<1.0.0,>=0.3.7->langchain_pinecone) (0.13.4)\n",
            "Requirement already satisfied: vcrpy>=7.0 in /usr/local/lib/python3.11/dist-packages (from langchain-tests<1.0.0,>=0.3.7->langchain_pinecone) (7.0.0)\n",
            "Requirement already satisfied: certifi>=2019.11.17 in /usr/local/lib/python3.11/dist-packages (from pinecone<8.0.0,>=6.0.0->pinecone[asyncio]<8.0.0,>=6.0.0->langchain_pinecone) (2025.7.14)\n",
            "Requirement already satisfied: pinecone-plugin-assistant<2.0.0,>=1.6.0 in /usr/local/lib/python3.11/dist-packages (from pinecone<8.0.0,>=6.0.0->pinecone[asyncio]<8.0.0,>=6.0.0->langchain_pinecone) (1.7.0)\n",
            "Requirement already satisfied: pinecone-plugin-interface<0.0.8,>=0.0.7 in /usr/local/lib/python3.11/dist-packages (from pinecone<8.0.0,>=6.0.0->pinecone[asyncio]<8.0.0,>=6.0.0->langchain_pinecone) (0.0.7)\n",
            "Requirement already satisfied: python-dateutil>=2.5.3 in /usr/local/lib/python3.11/dist-packages (from pinecone<8.0.0,>=6.0.0->pinecone[asyncio]<8.0.0,>=6.0.0->langchain_pinecone) (2.9.0.post0)\n",
            "Requirement already satisfied: urllib3>=1.26.0 in /usr/local/lib/python3.11/dist-packages (from pinecone<8.0.0,>=6.0.0->pinecone[asyncio]<8.0.0,>=6.0.0->langchain_pinecone) (2.5.0)\n",
            "Requirement already satisfied: aiohttp>=3.9.0 in /usr/local/lib/python3.11/dist-packages (from pinecone[asyncio]<8.0.0,>=6.0.0->langchain_pinecone) (3.11.15)\n",
            "Requirement already satisfied: aiohttp-retry<3.0.0,>=2.9.1 in /usr/local/lib/python3.11/dist-packages (from pinecone[asyncio]<8.0.0,>=6.0.0->langchain_pinecone) (2.9.1)\n",
            "Requirement already satisfied: aiohappyeyeballs>=2.3.0 in /usr/local/lib/python3.11/dist-packages (from aiohttp>=3.9.0->pinecone[asyncio]<8.0.0,>=6.0.0->langchain_pinecone) (2.6.1)\n",
            "Requirement already satisfied: aiosignal>=1.1.2 in /usr/local/lib/python3.11/dist-packages (from aiohttp>=3.9.0->pinecone[asyncio]<8.0.0,>=6.0.0->langchain_pinecone) (1.4.0)\n",
            "Requirement already satisfied: attrs>=17.3.0 in /usr/local/lib/python3.11/dist-packages (from aiohttp>=3.9.0->pinecone[asyncio]<8.0.0,>=6.0.0->langchain_pinecone) (25.3.0)\n",
            "Requirement already satisfied: frozenlist>=1.1.1 in /usr/local/lib/python3.11/dist-packages (from aiohttp>=3.9.0->pinecone[asyncio]<8.0.0,>=6.0.0->langchain_pinecone) (1.7.0)\n",
            "Requirement already satisfied: multidict<7.0,>=4.5 in /usr/local/lib/python3.11/dist-packages (from aiohttp>=3.9.0->pinecone[asyncio]<8.0.0,>=6.0.0->langchain_pinecone) (6.6.3)\n",
            "Requirement already satisfied: propcache>=0.2.0 in /usr/local/lib/python3.11/dist-packages (from aiohttp>=3.9.0->pinecone[asyncio]<8.0.0,>=6.0.0->langchain_pinecone) (0.3.2)\n",
            "Requirement already satisfied: yarl<2.0,>=1.17.0 in /usr/local/lib/python3.11/dist-packages (from aiohttp>=3.9.0->pinecone[asyncio]<8.0.0,>=6.0.0->langchain_pinecone) (1.20.1)\n",
            "Requirement already satisfied: anyio in /usr/local/lib/python3.11/dist-packages (from httpx<1,>=0.25.0->langchain-tests<1.0.0,>=0.3.7->langchain_pinecone) (4.9.0)\n",
            "Requirement already satisfied: httpcore==1.* in /usr/local/lib/python3.11/dist-packages (from httpx<1,>=0.25.0->langchain-tests<1.0.0,>=0.3.7->langchain_pinecone) (1.0.9)\n",
            "Requirement already satisfied: idna in /usr/local/lib/python3.11/dist-packages (from httpx<1,>=0.25.0->langchain-tests<1.0.0,>=0.3.7->langchain_pinecone) (3.10)\n",
            "Requirement already satisfied: h11>=0.16 in /usr/local/lib/python3.11/dist-packages (from httpcore==1.*->httpx<1,>=0.25.0->langchain-tests<1.0.0,>=0.3.7->langchain_pinecone) (0.16.0)\n",
            "Requirement already satisfied: jsonpointer>=1.9 in /usr/local/lib/python3.11/dist-packages (from jsonpatch<2.0,>=1.33->langchain-core<1.0.0,>=0.3.34->langchain_pinecone) (3.0.0)\n",
            "Requirement already satisfied: orjson<4.0.0,>=3.9.14 in /usr/local/lib/python3.11/dist-packages (from langsmith>=0.3.45->langchain-core<1.0.0,>=0.3.34->langchain_pinecone) (3.11.0)\n",
            "Requirement already satisfied: requests<3,>=2 in /usr/local/lib/python3.11/dist-packages (from langsmith>=0.3.45->langchain-core<1.0.0,>=0.3.34->langchain_pinecone) (2.32.3)\n",
            "Requirement already satisfied: requests-toolbelt<2.0.0,>=1.0.0 in /usr/local/lib/python3.11/dist-packages (from langsmith>=0.3.45->langchain-core<1.0.0,>=0.3.34->langchain_pinecone) (1.0.0)\n",
            "Requirement already satisfied: zstandard<0.24.0,>=0.23.0 in /usr/local/lib/python3.11/dist-packages (from langsmith>=0.3.45->langchain-core<1.0.0,>=0.3.34->langchain_pinecone) (0.23.0)\n",
            "Requirement already satisfied: distro<2,>=1.7.0 in /usr/local/lib/python3.11/dist-packages (from openai<2.0.0,>=1.86.0->langchain-openai>=0.3.11->langchain_pinecone) (1.9.0)\n",
            "Requirement already satisfied: jiter<1,>=0.4.0 in /usr/local/lib/python3.11/dist-packages (from openai<2.0.0,>=1.86.0->langchain-openai>=0.3.11->langchain_pinecone) (0.10.0)\n",
            "Requirement already satisfied: sniffio in /usr/local/lib/python3.11/dist-packages (from openai<2.0.0,>=1.86.0->langchain-openai>=0.3.11->langchain_pinecone) (1.3.1)\n",
            "Requirement already satisfied: tqdm>4 in /usr/local/lib/python3.11/dist-packages (from openai<2.0.0,>=1.86.0->langchain-openai>=0.3.11->langchain_pinecone) (4.67.1)\n",
            "Requirement already satisfied: annotated-types>=0.6.0 in /usr/local/lib/python3.11/dist-packages (from pydantic>=2.7.4->langchain-core<1.0.0,>=0.3.34->langchain_pinecone) (0.7.0)\n",
            "Requirement already satisfied: pydantic-core==2.33.2 in /usr/local/lib/python3.11/dist-packages (from pydantic>=2.7.4->langchain-core<1.0.0,>=0.3.34->langchain_pinecone) (2.33.2)\n",
            "Requirement already satisfied: typing-inspection>=0.4.0 in /usr/local/lib/python3.11/dist-packages (from pydantic>=2.7.4->langchain-core<1.0.0,>=0.3.34->langchain_pinecone) (0.4.1)\n",
            "Requirement already satisfied: iniconfig>=1 in /usr/local/lib/python3.11/dist-packages (from pytest<9,>=7->langchain-tests<1.0.0,>=0.3.7->langchain_pinecone) (2.1.0)\n",
            "Requirement already satisfied: pluggy<2,>=1.5 in /usr/local/lib/python3.11/dist-packages (from pytest<9,>=7->langchain-tests<1.0.0,>=0.3.7->langchain_pinecone) (1.6.0)\n",
            "Requirement already satisfied: pygments>=2.7.2 in /usr/local/lib/python3.11/dist-packages (from pytest<9,>=7->langchain-tests<1.0.0,>=0.3.7->langchain_pinecone) (2.19.2)\n",
            "Requirement already satisfied: six>=1.5 in /usr/local/lib/python3.11/dist-packages (from python-dateutil>=2.5.3->pinecone<8.0.0,>=6.0.0->pinecone[asyncio]<8.0.0,>=6.0.0->langchain_pinecone) (1.17.0)\n",
            "Requirement already satisfied: regex>=2022.1.18 in /usr/local/lib/python3.11/dist-packages (from tiktoken<1,>=0.7->langchain-openai>=0.3.11->langchain_pinecone) (2024.11.6)\n",
            "Requirement already satisfied: wrapt in /usr/local/lib/python3.11/dist-packages (from vcrpy>=7.0->langchain-tests<1.0.0,>=0.3.7->langchain_pinecone) (1.17.2)\n",
            "Requirement already satisfied: py-cpuinfo in /usr/local/lib/python3.11/dist-packages (from pytest-benchmark->langchain-tests<1.0.0,>=0.3.7->langchain_pinecone) (9.0.0)\n",
            "Requirement already satisfied: cffi>=1.17.1 in /usr/local/lib/python3.11/dist-packages (from pytest-codspeed->langchain-tests<1.0.0,>=0.3.7->langchain_pinecone) (1.17.1)\n",
            "Requirement already satisfied: rich>=13.8.1 in /usr/local/lib/python3.11/dist-packages (from pytest-codspeed->langchain-tests<1.0.0,>=0.3.7->langchain_pinecone) (13.9.4)\n",
            "Requirement already satisfied: pycparser in /usr/local/lib/python3.11/dist-packages (from cffi>=1.17.1->pytest-codspeed->langchain-tests<1.0.0,>=0.3.7->langchain_pinecone) (2.22)\n",
            "Requirement already satisfied: charset-normalizer<4,>=2 in /usr/local/lib/python3.11/dist-packages (from requests<3,>=2->langsmith>=0.3.45->langchain-core<1.0.0,>=0.3.34->langchain_pinecone) (3.4.2)\n",
            "Requirement already satisfied: markdown-it-py>=2.2.0 in /usr/local/lib/python3.11/dist-packages (from rich>=13.8.1->pytest-codspeed->langchain-tests<1.0.0,>=0.3.7->langchain_pinecone) (3.0.0)\n",
            "Requirement already satisfied: mdurl~=0.1 in /usr/local/lib/python3.11/dist-packages (from markdown-it-py>=2.2.0->rich>=13.8.1->pytest-codspeed->langchain-tests<1.0.0,>=0.3.7->langchain_pinecone) (0.1.2)\n",
            "Requirement already satisfied: google-api-python-client in /usr/local/lib/python3.11/dist-packages (2.176.0)\n",
            "Requirement already satisfied: google-auth-httplib2 in /usr/local/lib/python3.11/dist-packages (0.2.0)\n",
            "Requirement already satisfied: google-auth-oauthlib in /usr/local/lib/python3.11/dist-packages (1.2.2)\n",
            "Requirement already satisfied: httplib2<1.0.0,>=0.19.0 in /usr/local/lib/python3.11/dist-packages (from google-api-python-client) (0.22.0)\n",
            "Requirement already satisfied: google-auth!=2.24.0,!=2.25.0,<3.0.0,>=1.32.0 in /usr/local/lib/python3.11/dist-packages (from google-api-python-client) (2.38.0)\n",
            "Requirement already satisfied: google-api-core!=2.0.*,!=2.1.*,!=2.2.*,!=2.3.0,<3.0.0,>=1.31.5 in /usr/local/lib/python3.11/dist-packages (from google-api-python-client) (2.25.1)\n",
            "Requirement already satisfied: uritemplate<5,>=3.0.1 in /usr/local/lib/python3.11/dist-packages (from google-api-python-client) (4.2.0)\n",
            "Requirement already satisfied: requests-oauthlib>=0.7.0 in /usr/local/lib/python3.11/dist-packages (from google-auth-oauthlib) (2.0.0)\n",
            "Requirement already satisfied: googleapis-common-protos<2.0.0,>=1.56.2 in /usr/local/lib/python3.11/dist-packages (from google-api-core!=2.0.*,!=2.1.*,!=2.2.*,!=2.3.0,<3.0.0,>=1.31.5->google-api-python-client) (1.70.0)\n",
            "Requirement already satisfied: protobuf!=3.20.0,!=3.20.1,!=4.21.0,!=4.21.1,!=4.21.2,!=4.21.3,!=4.21.4,!=4.21.5,<7.0.0,>=3.19.5 in /usr/local/lib/python3.11/dist-packages (from google-api-core!=2.0.*,!=2.1.*,!=2.2.*,!=2.3.0,<3.0.0,>=1.31.5->google-api-python-client) (5.29.5)\n",
            "Requirement already satisfied: proto-plus<2.0.0,>=1.22.3 in /usr/local/lib/python3.11/dist-packages (from google-api-core!=2.0.*,!=2.1.*,!=2.2.*,!=2.3.0,<3.0.0,>=1.31.5->google-api-python-client) (1.26.1)\n",
            "Requirement already satisfied: requests<3.0.0,>=2.18.0 in /usr/local/lib/python3.11/dist-packages (from google-api-core!=2.0.*,!=2.1.*,!=2.2.*,!=2.3.0,<3.0.0,>=1.31.5->google-api-python-client) (2.32.3)\n",
            "Requirement already satisfied: cachetools<6.0,>=2.0.0 in /usr/local/lib/python3.11/dist-packages (from google-auth!=2.24.0,!=2.25.0,<3.0.0,>=1.32.0->google-api-python-client) (5.5.2)\n",
            "Requirement already satisfied: pyasn1-modules>=0.2.1 in /usr/local/lib/python3.11/dist-packages (from google-auth!=2.24.0,!=2.25.0,<3.0.0,>=1.32.0->google-api-python-client) (0.4.2)\n",
            "Requirement already satisfied: rsa<5,>=3.1.4 in /usr/local/lib/python3.11/dist-packages (from google-auth!=2.24.0,!=2.25.0,<3.0.0,>=1.32.0->google-api-python-client) (4.9.1)\n",
            "Requirement already satisfied: pyparsing!=3.0.0,!=3.0.1,!=3.0.2,!=3.0.3,<4,>=2.4.2 in /usr/local/lib/python3.11/dist-packages (from httplib2<1.0.0,>=0.19.0->google-api-python-client) (3.2.3)\n",
            "Requirement already satisfied: oauthlib>=3.0.0 in /usr/local/lib/python3.11/dist-packages (from requests-oauthlib>=0.7.0->google-auth-oauthlib) (3.3.1)\n",
            "Requirement already satisfied: pyasn1<0.7.0,>=0.6.1 in /usr/local/lib/python3.11/dist-packages (from pyasn1-modules>=0.2.1->google-auth!=2.24.0,!=2.25.0,<3.0.0,>=1.32.0->google-api-python-client) (0.6.1)\n",
            "Requirement already satisfied: charset-normalizer<4,>=2 in /usr/local/lib/python3.11/dist-packages (from requests<3.0.0,>=2.18.0->google-api-core!=2.0.*,!=2.1.*,!=2.2.*,!=2.3.0,<3.0.0,>=1.31.5->google-api-python-client) (3.4.2)\n",
            "Requirement already satisfied: idna<4,>=2.5 in /usr/local/lib/python3.11/dist-packages (from requests<3.0.0,>=2.18.0->google-api-core!=2.0.*,!=2.1.*,!=2.2.*,!=2.3.0,<3.0.0,>=1.31.5->google-api-python-client) (3.10)\n",
            "Requirement already satisfied: urllib3<3,>=1.21.1 in /usr/local/lib/python3.11/dist-packages (from requests<3.0.0,>=2.18.0->google-api-core!=2.0.*,!=2.1.*,!=2.2.*,!=2.3.0,<3.0.0,>=1.31.5->google-api-python-client) (2.5.0)\n",
            "Requirement already satisfied: certifi>=2017.4.17 in /usr/local/lib/python3.11/dist-packages (from requests<3.0.0,>=2.18.0->google-api-core!=2.0.*,!=2.1.*,!=2.2.*,!=2.3.0,<3.0.0,>=1.31.5->google-api-python-client) (2025.7.14)\n",
            "Requirement already satisfied: google-auth in /usr/local/lib/python3.11/dist-packages (2.38.0)\n",
            "Requirement already satisfied: google-auth-oauthlib in /usr/local/lib/python3.11/dist-packages (1.2.2)\n",
            "Requirement already satisfied: google-api-python-client in /usr/local/lib/python3.11/dist-packages (2.176.0)\n",
            "Requirement already satisfied: cachetools<6.0,>=2.0.0 in /usr/local/lib/python3.11/dist-packages (from google-auth) (5.5.2)\n",
            "Requirement already satisfied: pyasn1-modules>=0.2.1 in /usr/local/lib/python3.11/dist-packages (from google-auth) (0.4.2)\n",
            "Requirement already satisfied: rsa<5,>=3.1.4 in /usr/local/lib/python3.11/dist-packages (from google-auth) (4.9.1)\n",
            "Requirement already satisfied: requests-oauthlib>=0.7.0 in /usr/local/lib/python3.11/dist-packages (from google-auth-oauthlib) (2.0.0)\n",
            "Requirement already satisfied: httplib2<1.0.0,>=0.19.0 in /usr/local/lib/python3.11/dist-packages (from google-api-python-client) (0.22.0)\n",
            "Requirement already satisfied: google-auth-httplib2<1.0.0,>=0.2.0 in /usr/local/lib/python3.11/dist-packages (from google-api-python-client) (0.2.0)\n",
            "Requirement already satisfied: google-api-core!=2.0.*,!=2.1.*,!=2.2.*,!=2.3.0,<3.0.0,>=1.31.5 in /usr/local/lib/python3.11/dist-packages (from google-api-python-client) (2.25.1)\n",
            "Requirement already satisfied: uritemplate<5,>=3.0.1 in /usr/local/lib/python3.11/dist-packages (from google-api-python-client) (4.2.0)\n",
            "Requirement already satisfied: googleapis-common-protos<2.0.0,>=1.56.2 in /usr/local/lib/python3.11/dist-packages (from google-api-core!=2.0.*,!=2.1.*,!=2.2.*,!=2.3.0,<3.0.0,>=1.31.5->google-api-python-client) (1.70.0)\n",
            "Requirement already satisfied: protobuf!=3.20.0,!=3.20.1,!=4.21.0,!=4.21.1,!=4.21.2,!=4.21.3,!=4.21.4,!=4.21.5,<7.0.0,>=3.19.5 in /usr/local/lib/python3.11/dist-packages (from google-api-core!=2.0.*,!=2.1.*,!=2.2.*,!=2.3.0,<3.0.0,>=1.31.5->google-api-python-client) (5.29.5)\n",
            "Requirement already satisfied: proto-plus<2.0.0,>=1.22.3 in /usr/local/lib/python3.11/dist-packages (from google-api-core!=2.0.*,!=2.1.*,!=2.2.*,!=2.3.0,<3.0.0,>=1.31.5->google-api-python-client) (1.26.1)\n",
            "Requirement already satisfied: requests<3.0.0,>=2.18.0 in /usr/local/lib/python3.11/dist-packages (from google-api-core!=2.0.*,!=2.1.*,!=2.2.*,!=2.3.0,<3.0.0,>=1.31.5->google-api-python-client) (2.32.3)\n",
            "Requirement already satisfied: pyparsing!=3.0.0,!=3.0.1,!=3.0.2,!=3.0.3,<4,>=2.4.2 in /usr/local/lib/python3.11/dist-packages (from httplib2<1.0.0,>=0.19.0->google-api-python-client) (3.2.3)\n",
            "Requirement already satisfied: pyasn1<0.7.0,>=0.6.1 in /usr/local/lib/python3.11/dist-packages (from pyasn1-modules>=0.2.1->google-auth) (0.6.1)\n",
            "Requirement already satisfied: oauthlib>=3.0.0 in /usr/local/lib/python3.11/dist-packages (from requests-oauthlib>=0.7.0->google-auth-oauthlib) (3.3.1)\n",
            "Requirement already satisfied: charset-normalizer<4,>=2 in /usr/local/lib/python3.11/dist-packages (from requests<3.0.0,>=2.18.0->google-api-core!=2.0.*,!=2.1.*,!=2.2.*,!=2.3.0,<3.0.0,>=1.31.5->google-api-python-client) (3.4.2)\n",
            "Requirement already satisfied: idna<4,>=2.5 in /usr/local/lib/python3.11/dist-packages (from requests<3.0.0,>=2.18.0->google-api-core!=2.0.*,!=2.1.*,!=2.2.*,!=2.3.0,<3.0.0,>=1.31.5->google-api-python-client) (3.10)\n",
            "Requirement already satisfied: urllib3<3,>=1.21.1 in /usr/local/lib/python3.11/dist-packages (from requests<3.0.0,>=2.18.0->google-api-core!=2.0.*,!=2.1.*,!=2.2.*,!=2.3.0,<3.0.0,>=1.31.5->google-api-python-client) (2.5.0)\n",
            "Requirement already satisfied: certifi>=2017.4.17 in /usr/local/lib/python3.11/dist-packages (from requests<3.0.0,>=2.18.0->google-api-core!=2.0.*,!=2.1.*,!=2.2.*,!=2.3.0,<3.0.0,>=1.31.5->google-api-python-client) (2025.7.14)\n",
            "Requirement already satisfied: PyPDF2 in /usr/local/lib/python3.11/dist-packages (3.0.1)\n",
            "Requirement already satisfied: vertexai in /usr/local/lib/python3.11/dist-packages (1.71.1)\n",
            "Requirement already satisfied: google-cloud-aiplatform==1.71.1 in /usr/local/lib/python3.11/dist-packages (from google-cloud-aiplatform[all]==1.71.1->vertexai) (1.71.1)\n",
            "Requirement already satisfied: google-api-core!=2.0.*,!=2.1.*,!=2.2.*,!=2.3.*,!=2.4.*,!=2.5.*,!=2.6.*,!=2.7.*,<3.0.0dev,>=1.34.1 in /usr/local/lib/python3.11/dist-packages (from google-api-core[grpc]!=2.0.*,!=2.1.*,!=2.2.*,!=2.3.*,!=2.4.*,!=2.5.*,!=2.6.*,!=2.7.*,<3.0.0dev,>=1.34.1->google-cloud-aiplatform==1.71.1->google-cloud-aiplatform[all]==1.71.1->vertexai) (2.25.1)\n",
            "Requirement already satisfied: google-auth<3.0.0dev,>=2.14.1 in /usr/local/lib/python3.11/dist-packages (from google-cloud-aiplatform==1.71.1->google-cloud-aiplatform[all]==1.71.1->vertexai) (2.38.0)\n",
            "Requirement already satisfied: proto-plus<2.0.0dev,>=1.22.3 in /usr/local/lib/python3.11/dist-packages (from google-cloud-aiplatform==1.71.1->google-cloud-aiplatform[all]==1.71.1->vertexai) (1.26.1)\n",
            "Requirement already satisfied: protobuf!=4.21.0,!=4.21.1,!=4.21.2,!=4.21.3,!=4.21.4,!=4.21.5,<6.0.0dev,>=3.20.2 in /usr/local/lib/python3.11/dist-packages (from google-cloud-aiplatform==1.71.1->google-cloud-aiplatform[all]==1.71.1->vertexai) (5.29.5)\n",
            "Requirement already satisfied: packaging>=14.3 in /usr/local/lib/python3.11/dist-packages (from google-cloud-aiplatform==1.71.1->google-cloud-aiplatform[all]==1.71.1->vertexai) (24.2)\n",
            "Requirement already satisfied: google-cloud-storage<3.0.0dev,>=1.32.0 in /usr/local/lib/python3.11/dist-packages (from google-cloud-aiplatform==1.71.1->google-cloud-aiplatform[all]==1.71.1->vertexai) (2.19.0)\n",
            "Requirement already satisfied: google-cloud-bigquery!=3.20.0,<4.0.0dev,>=1.15.0 in /usr/local/lib/python3.11/dist-packages (from google-cloud-aiplatform==1.71.1->google-cloud-aiplatform[all]==1.71.1->vertexai) (3.35.0)\n",
            "Requirement already satisfied: google-cloud-resource-manager<3.0.0dev,>=1.3.3 in /usr/local/lib/python3.11/dist-packages (from google-cloud-aiplatform==1.71.1->google-cloud-aiplatform[all]==1.71.1->vertexai) (1.14.2)\n",
            "Requirement already satisfied: shapely<3.0.0dev in /usr/local/lib/python3.11/dist-packages (from google-cloud-aiplatform==1.71.1->google-cloud-aiplatform[all]==1.71.1->vertexai) (2.1.1)\n",
            "Requirement already satisfied: pydantic<3 in /usr/local/lib/python3.11/dist-packages (from google-cloud-aiplatform==1.71.1->google-cloud-aiplatform[all]==1.71.1->vertexai) (2.11.7)\n",
            "Requirement already satisfied: docstring-parser<1 in /usr/local/lib/python3.11/dist-packages (from google-cloud-aiplatform==1.71.1->google-cloud-aiplatform[all]==1.71.1->vertexai) (0.16)\n",
            "\u001b[33mWARNING: google-cloud-aiplatform 1.71.1 does not provide the extra 'all'\u001b[0m\u001b[33m\n",
            "\u001b[0mRequirement already satisfied: googleapis-common-protos<2.0.0,>=1.56.2 in /usr/local/lib/python3.11/dist-packages (from google-api-core!=2.0.*,!=2.1.*,!=2.2.*,!=2.3.*,!=2.4.*,!=2.5.*,!=2.6.*,!=2.7.*,<3.0.0dev,>=1.34.1->google-api-core[grpc]!=2.0.*,!=2.1.*,!=2.2.*,!=2.3.*,!=2.4.*,!=2.5.*,!=2.6.*,!=2.7.*,<3.0.0dev,>=1.34.1->google-cloud-aiplatform==1.71.1->google-cloud-aiplatform[all]==1.71.1->vertexai) (1.70.0)\n",
            "Requirement already satisfied: requests<3.0.0,>=2.18.0 in /usr/local/lib/python3.11/dist-packages (from google-api-core!=2.0.*,!=2.1.*,!=2.2.*,!=2.3.*,!=2.4.*,!=2.5.*,!=2.6.*,!=2.7.*,<3.0.0dev,>=1.34.1->google-api-core[grpc]!=2.0.*,!=2.1.*,!=2.2.*,!=2.3.*,!=2.4.*,!=2.5.*,!=2.6.*,!=2.7.*,<3.0.0dev,>=1.34.1->google-cloud-aiplatform==1.71.1->google-cloud-aiplatform[all]==1.71.1->vertexai) (2.32.3)\n",
            "Requirement already satisfied: grpcio<2.0.0,>=1.33.2 in /usr/local/lib/python3.11/dist-packages (from google-api-core[grpc]!=2.0.*,!=2.1.*,!=2.2.*,!=2.3.*,!=2.4.*,!=2.5.*,!=2.6.*,!=2.7.*,<3.0.0dev,>=1.34.1->google-cloud-aiplatform==1.71.1->google-cloud-aiplatform[all]==1.71.1->vertexai) (1.73.1)\n",
            "Requirement already satisfied: grpcio-status<2.0.0,>=1.33.2 in /usr/local/lib/python3.11/dist-packages (from google-api-core[grpc]!=2.0.*,!=2.1.*,!=2.2.*,!=2.3.*,!=2.4.*,!=2.5.*,!=2.6.*,!=2.7.*,<3.0.0dev,>=1.34.1->google-cloud-aiplatform==1.71.1->google-cloud-aiplatform[all]==1.71.1->vertexai) (1.71.2)\n",
            "Requirement already satisfied: cachetools<6.0,>=2.0.0 in /usr/local/lib/python3.11/dist-packages (from google-auth<3.0.0dev,>=2.14.1->google-cloud-aiplatform==1.71.1->google-cloud-aiplatform[all]==1.71.1->vertexai) (5.5.2)\n",
            "Requirement already satisfied: pyasn1-modules>=0.2.1 in /usr/local/lib/python3.11/dist-packages (from google-auth<3.0.0dev,>=2.14.1->google-cloud-aiplatform==1.71.1->google-cloud-aiplatform[all]==1.71.1->vertexai) (0.4.2)\n",
            "Requirement already satisfied: rsa<5,>=3.1.4 in /usr/local/lib/python3.11/dist-packages (from google-auth<3.0.0dev,>=2.14.1->google-cloud-aiplatform==1.71.1->google-cloud-aiplatform[all]==1.71.1->vertexai) (4.9.1)\n",
            "Requirement already satisfied: google-cloud-core<3.0.0,>=2.4.1 in /usr/local/lib/python3.11/dist-packages (from google-cloud-bigquery!=3.20.0,<4.0.0dev,>=1.15.0->google-cloud-aiplatform==1.71.1->google-cloud-aiplatform[all]==1.71.1->vertexai) (2.4.3)\n",
            "Requirement already satisfied: google-resumable-media<3.0.0,>=2.0.0 in /usr/local/lib/python3.11/dist-packages (from google-cloud-bigquery!=3.20.0,<4.0.0dev,>=1.15.0->google-cloud-aiplatform==1.71.1->google-cloud-aiplatform[all]==1.71.1->vertexai) (2.7.2)\n",
            "Requirement already satisfied: python-dateutil<3.0.0,>=2.8.2 in /usr/local/lib/python3.11/dist-packages (from google-cloud-bigquery!=3.20.0,<4.0.0dev,>=1.15.0->google-cloud-aiplatform==1.71.1->google-cloud-aiplatform[all]==1.71.1->vertexai) (2.9.0.post0)\n",
            "Requirement already satisfied: grpc-google-iam-v1<1.0.0,>=0.14.0 in /usr/local/lib/python3.11/dist-packages (from google-cloud-resource-manager<3.0.0dev,>=1.3.3->google-cloud-aiplatform==1.71.1->google-cloud-aiplatform[all]==1.71.1->vertexai) (0.14.2)\n",
            "Requirement already satisfied: google-crc32c<2.0dev,>=1.0 in /usr/local/lib/python3.11/dist-packages (from google-cloud-storage<3.0.0dev,>=1.32.0->google-cloud-aiplatform==1.71.1->google-cloud-aiplatform[all]==1.71.1->vertexai) (1.7.1)\n",
            "Requirement already satisfied: annotated-types>=0.6.0 in /usr/local/lib/python3.11/dist-packages (from pydantic<3->google-cloud-aiplatform==1.71.1->google-cloud-aiplatform[all]==1.71.1->vertexai) (0.7.0)\n",
            "Requirement already satisfied: pydantic-core==2.33.2 in /usr/local/lib/python3.11/dist-packages (from pydantic<3->google-cloud-aiplatform==1.71.1->google-cloud-aiplatform[all]==1.71.1->vertexai) (2.33.2)\n",
            "Requirement already satisfied: typing-extensions>=4.12.2 in /usr/local/lib/python3.11/dist-packages (from pydantic<3->google-cloud-aiplatform==1.71.1->google-cloud-aiplatform[all]==1.71.1->vertexai) (4.14.1)\n",
            "Requirement already satisfied: typing-inspection>=0.4.0 in /usr/local/lib/python3.11/dist-packages (from pydantic<3->google-cloud-aiplatform==1.71.1->google-cloud-aiplatform[all]==1.71.1->vertexai) (0.4.1)\n",
            "Requirement already satisfied: numpy>=1.21 in /usr/local/lib/python3.11/dist-packages (from shapely<3.0.0dev->google-cloud-aiplatform==1.71.1->google-cloud-aiplatform[all]==1.71.1->vertexai) (2.0.2)\n",
            "Requirement already satisfied: pyasn1<0.7.0,>=0.6.1 in /usr/local/lib/python3.11/dist-packages (from pyasn1-modules>=0.2.1->google-auth<3.0.0dev,>=2.14.1->google-cloud-aiplatform==1.71.1->google-cloud-aiplatform[all]==1.71.1->vertexai) (0.6.1)\n",
            "Requirement already satisfied: six>=1.5 in /usr/local/lib/python3.11/dist-packages (from python-dateutil<3.0.0,>=2.8.2->google-cloud-bigquery!=3.20.0,<4.0.0dev,>=1.15.0->google-cloud-aiplatform==1.71.1->google-cloud-aiplatform[all]==1.71.1->vertexai) (1.17.0)\n",
            "Requirement already satisfied: charset-normalizer<4,>=2 in /usr/local/lib/python3.11/dist-packages (from requests<3.0.0,>=2.18.0->google-api-core!=2.0.*,!=2.1.*,!=2.2.*,!=2.3.*,!=2.4.*,!=2.5.*,!=2.6.*,!=2.7.*,<3.0.0dev,>=1.34.1->google-api-core[grpc]!=2.0.*,!=2.1.*,!=2.2.*,!=2.3.*,!=2.4.*,!=2.5.*,!=2.6.*,!=2.7.*,<3.0.0dev,>=1.34.1->google-cloud-aiplatform==1.71.1->google-cloud-aiplatform[all]==1.71.1->vertexai) (3.4.2)\n",
            "Requirement already satisfied: idna<4,>=2.5 in /usr/local/lib/python3.11/dist-packages (from requests<3.0.0,>=2.18.0->google-api-core!=2.0.*,!=2.1.*,!=2.2.*,!=2.3.*,!=2.4.*,!=2.5.*,!=2.6.*,!=2.7.*,<3.0.0dev,>=1.34.1->google-api-core[grpc]!=2.0.*,!=2.1.*,!=2.2.*,!=2.3.*,!=2.4.*,!=2.5.*,!=2.6.*,!=2.7.*,<3.0.0dev,>=1.34.1->google-cloud-aiplatform==1.71.1->google-cloud-aiplatform[all]==1.71.1->vertexai) (3.10)\n",
            "Requirement already satisfied: urllib3<3,>=1.21.1 in /usr/local/lib/python3.11/dist-packages (from requests<3.0.0,>=2.18.0->google-api-core!=2.0.*,!=2.1.*,!=2.2.*,!=2.3.*,!=2.4.*,!=2.5.*,!=2.6.*,!=2.7.*,<3.0.0dev,>=1.34.1->google-api-core[grpc]!=2.0.*,!=2.1.*,!=2.2.*,!=2.3.*,!=2.4.*,!=2.5.*,!=2.6.*,!=2.7.*,<3.0.0dev,>=1.34.1->google-cloud-aiplatform==1.71.1->google-cloud-aiplatform[all]==1.71.1->vertexai) (2.5.0)\n",
            "Requirement already satisfied: certifi>=2017.4.17 in /usr/local/lib/python3.11/dist-packages (from requests<3.0.0,>=2.18.0->google-api-core!=2.0.*,!=2.1.*,!=2.2.*,!=2.3.*,!=2.4.*,!=2.5.*,!=2.6.*,!=2.7.*,<3.0.0dev,>=1.34.1->google-api-core[grpc]!=2.0.*,!=2.1.*,!=2.2.*,!=2.3.*,!=2.4.*,!=2.5.*,!=2.6.*,!=2.7.*,<3.0.0dev,>=1.34.1->google-cloud-aiplatform==1.71.1->google-cloud-aiplatform[all]==1.71.1->vertexai) (2025.7.14)\n",
            "Requirement already satisfied: unstructured in /usr/local/lib/python3.11/dist-packages (0.18.9)\n",
            "Requirement already satisfied: chardet in /usr/local/lib/python3.11/dist-packages (from unstructured) (5.2.0)\n",
            "Requirement already satisfied: filetype in /usr/local/lib/python3.11/dist-packages (from unstructured) (1.2.0)\n",
            "Requirement already satisfied: python-magic in /usr/local/lib/python3.11/dist-packages (from unstructured) (0.4.27)\n",
            "Requirement already satisfied: lxml in /usr/local/lib/python3.11/dist-packages (from unstructured) (5.4.0)\n",
            "Requirement already satisfied: nltk in /usr/local/lib/python3.11/dist-packages (from unstructured) (3.9.1)\n",
            "Requirement already satisfied: requests in /usr/local/lib/python3.11/dist-packages (from unstructured) (2.32.3)\n",
            "Requirement already satisfied: beautifulsoup4 in /usr/local/lib/python3.11/dist-packages (from unstructured) (4.13.4)\n",
            "Requirement already satisfied: emoji in /usr/local/lib/python3.11/dist-packages (from unstructured) (2.14.1)\n",
            "Requirement already satisfied: dataclasses-json in /usr/local/lib/python3.11/dist-packages (from unstructured) (0.6.7)\n",
            "Requirement already satisfied: python-iso639 in /usr/local/lib/python3.11/dist-packages (from unstructured) (2025.2.18)\n",
            "Requirement already satisfied: langdetect in /usr/local/lib/python3.11/dist-packages (from unstructured) (1.0.9)\n",
            "Requirement already satisfied: numpy in /usr/local/lib/python3.11/dist-packages (from unstructured) (2.0.2)\n",
            "Requirement already satisfied: rapidfuzz in /usr/local/lib/python3.11/dist-packages (from unstructured) (3.13.0)\n",
            "Requirement already satisfied: backoff in /usr/local/lib/python3.11/dist-packages (from unstructured) (2.2.1)\n",
            "Requirement already satisfied: typing-extensions in /usr/local/lib/python3.11/dist-packages (from unstructured) (4.14.1)\n",
            "Requirement already satisfied: unstructured-client in /usr/local/lib/python3.11/dist-packages (from unstructured) (0.39.1)\n",
            "Requirement already satisfied: wrapt in /usr/local/lib/python3.11/dist-packages (from unstructured) (1.17.2)\n",
            "Requirement already satisfied: tqdm in /usr/local/lib/python3.11/dist-packages (from unstructured) (4.67.1)\n",
            "Requirement already satisfied: psutil in /usr/local/lib/python3.11/dist-packages (from unstructured) (5.9.5)\n",
            "Requirement already satisfied: python-oxmsg in /usr/local/lib/python3.11/dist-packages (from unstructured) (0.0.2)\n",
            "Requirement already satisfied: html5lib in /usr/local/lib/python3.11/dist-packages (from unstructured) (1.1)\n",
            "Requirement already satisfied: soupsieve>1.2 in /usr/local/lib/python3.11/dist-packages (from beautifulsoup4->unstructured) (2.7)\n",
            "Requirement already satisfied: marshmallow<4.0.0,>=3.18.0 in /usr/local/lib/python3.11/dist-packages (from dataclasses-json->unstructured) (3.26.1)\n",
            "Requirement already satisfied: typing-inspect<1,>=0.4.0 in /usr/local/lib/python3.11/dist-packages (from dataclasses-json->unstructured) (0.9.0)\n",
            "Requirement already satisfied: six>=1.9 in /usr/local/lib/python3.11/dist-packages (from html5lib->unstructured) (1.17.0)\n",
            "Requirement already satisfied: webencodings in /usr/local/lib/python3.11/dist-packages (from html5lib->unstructured) (0.5.1)\n",
            "Requirement already satisfied: click in /usr/local/lib/python3.11/dist-packages (from nltk->unstructured) (8.2.1)\n",
            "Requirement already satisfied: joblib in /usr/local/lib/python3.11/dist-packages (from nltk->unstructured) (1.5.1)\n",
            "Requirement already satisfied: regex>=2021.8.3 in /usr/local/lib/python3.11/dist-packages (from nltk->unstructured) (2024.11.6)\n",
            "Requirement already satisfied: olefile in /usr/local/lib/python3.11/dist-packages (from python-oxmsg->unstructured) (0.47)\n",
            "Requirement already satisfied: charset-normalizer<4,>=2 in /usr/local/lib/python3.11/dist-packages (from requests->unstructured) (3.4.2)\n",
            "Requirement already satisfied: idna<4,>=2.5 in /usr/local/lib/python3.11/dist-packages (from requests->unstructured) (3.10)\n",
            "Requirement already satisfied: urllib3<3,>=1.21.1 in /usr/local/lib/python3.11/dist-packages (from requests->unstructured) (2.5.0)\n",
            "Requirement already satisfied: certifi>=2017.4.17 in /usr/local/lib/python3.11/dist-packages (from requests->unstructured) (2025.7.14)\n",
            "Requirement already satisfied: aiofiles>=24.1.0 in /usr/local/lib/python3.11/dist-packages (from unstructured-client->unstructured) (24.1.0)\n",
            "Requirement already satisfied: cryptography>=3.1 in /usr/local/lib/python3.11/dist-packages (from unstructured-client->unstructured) (43.0.3)\n",
            "Requirement already satisfied: httpx>=0.27.0 in /usr/local/lib/python3.11/dist-packages (from unstructured-client->unstructured) (0.28.1)\n",
            "Requirement already satisfied: nest-asyncio>=1.6.0 in /usr/local/lib/python3.11/dist-packages (from unstructured-client->unstructured) (1.6.0)\n",
            "Requirement already satisfied: pydantic>=2.11.2 in /usr/local/lib/python3.11/dist-packages (from unstructured-client->unstructured) (2.11.7)\n",
            "Requirement already satisfied: pypdf>=4.0 in /usr/local/lib/python3.11/dist-packages (from unstructured-client->unstructured) (5.8.0)\n",
            "Requirement already satisfied: requests-toolbelt>=1.0.0 in /usr/local/lib/python3.11/dist-packages (from unstructured-client->unstructured) (1.0.0)\n",
            "Requirement already satisfied: cffi>=1.12 in /usr/local/lib/python3.11/dist-packages (from cryptography>=3.1->unstructured-client->unstructured) (1.17.1)\n",
            "Requirement already satisfied: anyio in /usr/local/lib/python3.11/dist-packages (from httpx>=0.27.0->unstructured-client->unstructured) (4.9.0)\n",
            "Requirement already satisfied: httpcore==1.* in /usr/local/lib/python3.11/dist-packages (from httpx>=0.27.0->unstructured-client->unstructured) (1.0.9)\n",
            "Requirement already satisfied: h11>=0.16 in /usr/local/lib/python3.11/dist-packages (from httpcore==1.*->httpx>=0.27.0->unstructured-client->unstructured) (0.16.0)\n",
            "Requirement already satisfied: packaging>=17.0 in /usr/local/lib/python3.11/dist-packages (from marshmallow<4.0.0,>=3.18.0->dataclasses-json->unstructured) (24.2)\n",
            "Requirement already satisfied: annotated-types>=0.6.0 in /usr/local/lib/python3.11/dist-packages (from pydantic>=2.11.2->unstructured-client->unstructured) (0.7.0)\n",
            "Requirement already satisfied: pydantic-core==2.33.2 in /usr/local/lib/python3.11/dist-packages (from pydantic>=2.11.2->unstructured-client->unstructured) (2.33.2)\n",
            "Requirement already satisfied: typing-inspection>=0.4.0 in /usr/local/lib/python3.11/dist-packages (from pydantic>=2.11.2->unstructured-client->unstructured) (0.4.1)\n",
            "Requirement already satisfied: mypy-extensions>=0.3.0 in /usr/local/lib/python3.11/dist-packages (from typing-inspect<1,>=0.4.0->dataclasses-json->unstructured) (1.1.0)\n",
            "Requirement already satisfied: pycparser in /usr/local/lib/python3.11/dist-packages (from cffi>=1.12->cryptography>=3.1->unstructured-client->unstructured) (2.22)\n",
            "Requirement already satisfied: sniffio>=1.1 in /usr/local/lib/python3.11/dist-packages (from anyio->httpx>=0.27.0->unstructured-client->unstructured) (1.3.1)\n"
          ]
        }
      ],
      "source": [
        "#Do not edit this cell - just run it using the button on the left. It will take some time to run\n",
        "!pip install openai\n",
        "!pip install pinecone\n",
        "!pip install langchain\n",
        "!pip install langchain_community\n",
        "!pip install langchain_openai\n",
        "!pip install langchain_pinecone\n",
        "!pip install --upgrade google-api-python-client google-auth-httplib2 google-auth-oauthlib\n",
        "!pip install --upgrade --quiet langchain-google-community[drive]\n",
        "!pip install google-auth google-auth-oauthlib google-api-python-client\n",
        "!pip install PyPDF2\n",
        "!pip install vertexai\n",
        "!pip install unstructured"
      ]
    },
    {
      "cell_type": "markdown",
      "metadata": {
        "id": "ymPscvzLAVN2"
      },
      "source": [
        "# Setting up Your Database\n",
        "\n",
        "The code below is how we extract the interview data and put it into our Pinecone Vector Database. Run the code below to setup your database."
      ]
    },
    {
      "cell_type": "code",
      "execution_count": 73,
      "metadata": {
        "id": "EpAWr-K1BZwm"
      },
      "outputs": [],
      "source": [
        "#Do not edit this cell - just run it using the button on the left\n",
        "\n",
        "from google.colab import auth\n",
        "from langchain.document_loaders import DirectoryLoader\n",
        "from PyPDF2 import PdfReader"
      ]
    },
    {
      "cell_type": "markdown",
      "metadata": {
        "id": "j2IDob1yP0I9"
      },
      "source": [
        "Access this [Google Drive](https://drive.google.com/drive/folders/1suacg1-9-yA1q-VB2tiatJt7Gcp6s_N4?usp=drive_link) that contains the sample interview data. These transcripts will be needed for RAG or you can utilize your own files.\n",
        "\n",
        "You HAVE TO make a shortcut to this folder(or a folder of your choice that contains the your transcripts) in your own Drive. On the Google Drive Folder:\n",
        "\n",
        "-   Navigate to the Google Drive folder linked above.\n",
        "-   Click the **down arrow** next to the folder name (e.g., \"Sample Transcripts\").\n",
        "-   Select \"Organize\" from the menu.\n",
        "-   Choose \"Add Shortcut.\"\n",
        "-   From \"All locations,\" select \"My Drive\" and confirm."
      ]
    },
    {
      "cell_type": "code",
      "execution_count": 74,
      "metadata": {
        "colab": {
          "base_uri": "https://localhost:8080/"
        },
        "id": "1dnqtu-MB3Yq",
        "outputId": "a4142728-4e9f-49e0-bd0f-14a5a3da4539"
      },
      "outputs": [
        {
          "output_type": "stream",
          "name": "stdout",
          "text": [
            "Drive already mounted at /content/drive; to attempt to forcibly remount, call drive.mount(\"/content/drive\", force_remount=True).\n"
          ]
        }
      ],
      "source": [
        "#Do not edit this cell - just run it using the button on the left\n",
        "#This cell will give the file access to read in the data you just saved.\n",
        "\n",
        "from google.colab import drive\n",
        "drive.mount('/content/drive')"
      ]
    },
    {
      "cell_type": "code",
      "execution_count": 75,
      "metadata": {
        "colab": {
          "base_uri": "https://localhost:8080/"
        },
        "id": "E_IaQnRWB5JH",
        "outputId": "e346633b-cd2d-4e8b-d59e-4d007bb44c8a"
      },
      "outputs": [
        {
          "output_type": "stream",
          "name": "stdout",
          "text": [
            " 001_KellyOlmstead_LicensedMidwife.txt\n",
            "'002_RodCaborn_EventProducerFundraiser (1).txt'\n",
            " 003_SukhSingh_CEOofCodeNaturally.txt\n",
            " 007_KeishaFrost_CEOofTheUnitedWaySantaCruz.txt\n",
            " 008_IrvinLemus_EthicalHACKERComputerInformationSystemsInstructor.txt\n",
            "'011_ Brook Ewoldsen_Fashion Institute Of Design (FIDM) .txt'\n"
          ]
        }
      ],
      "source": [
        "#Do not edit this cell - just run it using the button on the left\n",
        "# Run this cell and You should see a list of the transcripts that are in the google drive\n",
        "!ls \"/content/drive/My Drive/Sample Transcripts\""
      ]
    },
    {
      "cell_type": "code",
      "execution_count": 76,
      "metadata": {
        "colab": {
          "base_uri": "https://localhost:8080/"
        },
        "id": "ORR3JobkCBeS",
        "outputId": "1722ae0e-fffa-4e09-e2fc-353aa2450e48"
      },
      "outputs": [
        {
          "output_type": "execute_result",
          "data": {
            "text/plain": [
              "Document(metadata={'source': '/content/drive/My Drive/Sample Transcripts/001_KellyOlmstead_LicensedMidwife.txt'}, page_content='Source: https://soundcloud.com/what\\n\\nto\\n\\nbe/midwife\\n\\nkelly\\n\\nolmstead?utm_source=clipboard&utm_medium=text&utm_campaign=social_sharing\\n\\nInterviewee: Kelly Olmstead Industry Sector: Health Services, Sciences, Medical Technology Takeaways: Early self-discovery and interest exploration: Understanding different career paths, Early self-discovery and interest exploration: Exploring personal interests passions and values, Career decision-making and commitments: Making informed career decisions, Career decision-making and commitments: Taking the leap seizing opportunities and epiphany, Career pivots reconsideration and development: Integrating different passions or interests\\n\\n# INTERVIEW INTRODUCTION\\n\\nInterviewer  0:00 You\\'re listening to KSQD Santa Cruz at 90.7 FM My name is Nick and I\\'m an intern at Your Future Is Our Business (YFIOB) ,a Santa Cruz County nonprofit which helps students ages 10 to 18 explore Careers and start their career journey. We provide career expos panels, guest speakers and more activities to help youth explore careers. Today, I\\'m here with my other hosts Melina.\\n\\nHello everyone, our show What To Be highlights the career journeys of inspirational people in Santa Cruz County. If you\\'ve ever thought, \"Hmm, how did they get that job?\" Or \"What does that job really like?\" Then keep on listening.\\n\\nWe would like to remind listeners that the views and opinions expressed in this program do not necessarily represent those of Natural Bridges Media, YFIOB, or this career in its entirety. Disclaimer, comments and information provided during the show are not intended or implied to be a substitute for professional medical advice, diagnosis or treatment. Please be advised that this week\\'s episode might contain content that may be considered graphic or sensitive for young audiences.\\n\\nToday we\\'re joined by our guest Kelly Olmstead, who is currently a licensed midwife. Can you tell us what your career entails?\\n\\n# CAREER INTRODUCTION\\n\\nKelly Olmstead  1:05 Yes, a licensed midwife in the state of California is somebody who takes care of pregnant women and helps them throughout their entire pregnancy, providing primary care, then attends them when they are in labor, and then attends the baby and the mother after the baby is born. Most midwives continue care through the six week visit. And many midwives also provide primary women\\'s health care for women from their teens on up.\\n\\n#SKILLS AND RESPONSIBILIIES\\n\\nInterviewer  1:30 What kind of skills and responsibilities do you have for this job?\\n\\nKelly Olmstead  1:32 So a licensed midwife is the primary caregiver for the pregnant woman and her baby before and after the delivery. That means that I have responsibility to ensure that they are healthy and well and to seek additional assistance should a pregnancy or delivery become complicated, but their their health and well being is literally in the hands of a licensed midwife.\\n\\n# TRAINING Interviewer  1:52 And what kind of training do you have for this job?\\n\\nKelly Olmstead  1:54 So there\\'s a couple of different ways to become a midwife in the state of California. One route is called licensed Midwifery, and that\\'s the route that I chose. That\\'s a direct entry route into midwifery. And all that means is that I did not go through a nursing program first. So I go directly into the profession of Midwifery, taking coursework and doing clinical work during my training that enables me to develop and build all of the skills of becoming a midwife who takes care of mothers and babies.\\n\\nThe other route to midwifery is to go first to become a registered nurse, and then do advanced work and you become a certified nurse midwife. So that route is a little bit more, I don\\'t want to say involved but but a little bit, because you\\'re kind of taking a side route, you\\'re first going into nursing, and then you\\'re going into direct primary care. And one benefit of that route, however, is that it affords you flexibility in the kinds of places that you can work because you could work as a labor and delivery nurse, you could work as a certified nurse midwife in the hospital, you could work at a clinic as a nurse, an obstetrical nurse or a midwife. And as a licensed midwife, I don\\'t have those nursing options available as alternate types of careers to do.\\n\\nInterviewer  3:10 And how long is the training? And what kind of classes do you take for this?\\n\\nKelly Olmstead  3:13 So my training took about four years I attended a school called National Midwifery Institute. And that was that the school was responsible for all of the didactic pieces, all of the kind of book learning that you need to know like, what kinds of placentas you know, are normal, and what kinds are not? What are risk factors for women, how to, you know, read lab work, all of that kind of things.\\n\\nAnd then you also do what\\'s called, at least in our community, a preceptorship. You find a preceptor and you do an apprenticeship, where you are learning your clinical skills, so you\\'re learning the hands on taking blood pressure, doing vaginal exams, assessing the size of the baby and the position of the baby and listening to fetal heart tones, delivering babies, suturing, stopping a hemorrhage, resuscitating a baby, all of the hands on skills you\\'re learning under an experienced midwife who\\'s then reporting and stating that yes, you have mastered these skills\\n\\n#BREAKING INTO THE FIELD\\n\\nInterviewer  4:09 And how did you get into this field?\\n\\nKelly Olmstead  4:11 Well, it\\'s interesting because I was an editor. I graduated with an English degree and my joke is that i The two professions that I\\'ve had in my life both deal with missed periods. Yes, so I was an editor for 15 years and then I  moved to Santa Cruz after I had my second baby. And you know, home birth and midwifery is a big thing in Santa Cruz County. It was not in suburban Phoenix, Arizona, and so I always said if I have another baby, I want to have this baby at home with midwives.\\n\\nAnd so I did and it really rocked my world how different the experience was of giving birth in a hospital with two straightforward Labor\\'s and giving birth at home and being cared for by midwives, the midwives coming to you not being strapped to machine means being really hands on supported, I felt that the way that they treated my baby was so much different. Like that was one of the big reasons that it was just so amazing to me. And there were other things too, that they trusted me with, like, they trusted me to go weigh myself instead of have somebody weigh me and report, you know, they trusted me to assess my own, like when you do a urine dipstick, they trusted me to do that myself and to report there\\'s a swab that they do at the end of pregnancy. And even here in Santa Cruz, the midwives that work in the hospital actually do this swab for you. It\\'s a vaginal swab, swab, you gotta lay on your back. And you know, it\\'s an the midwife just said, Here, take this into the bathroom, here\\'s what you do, do it yourself, and like, oh, how empowering.\\n\\nSo there\\'s so much more I think, control and respect for the woman as a person and the baby as a person as opposed to being patients. So you can say yes and no to whatever you want, as long as it\\'s not an outright emergency. Where in the hospitals, there\\'s a lot of protocols, everybody has to get on the monitors, everybody, almost everybody gets an IV, most everybody you know, and you know, an interesting thing is I just was at a birth yesterday of a first time mom, and she looked over at me at the hardest, hardest part of labor, and said, what would be happening if I were at the hospital? You know, it\\'s like, well, this would be happening, and this would be happening. And she\\'s like, okay, back down, like, it\\'s not going to be better there. And then she had her baby.\\n\\n#INTRICACIES OF MIDWIFERY\\n\\nInterviewer  6:27 So it\\'s in a more like, relaxed environment.\\n\\nKelly Olmstead  6:30 It\\'s your own environment. So it\\'s a little like having an intimate picnic, you know, with a partner versus being in like a busy shopping mall, you know, like, where things are just not private, and under your control and all of that. So if you think about any mammal that gives birth, they don\\'t go into the middle of the sidewalk, or you know, your cat hides in the closet. Yeah. And so being able to be in your own familiar space where you can just be comfortable, I think is really conducive to having a good experience and labor.\\n\\nInterviewer  7:02 And other people that went through the same process. Did they say the same thing that you kind of did that how it was just better?\\n\\nKelly Olmstead  7:08 I think a lot of people do come that way. I think I\\'m interesting in that I had my first two babies in the hospital with an epidural, which is pain relief, you know, that makes it so that you can\\'t walk and you\\'re completely numb. You\\'re numb from your belly button down. And then I did a completely different way. So I have a lot of experience. I know what it\\'s like to give birth in the hospital. I know what it\\'s like to give both sides. And over time after I have that third baby, I just got so interested in pregnancy and birth. I was never ever going to be a midwife. And I just got so interested that I decided to go to midwifery school. So I\\'ve been a midwife now for a little over nine years.\\n\\nInterviewer  7:50 And what would you say is the most difficult part of your job?\\n\\nKelly Olmstead  7:53 The hours. Not even the how not even the hours, but the constantly being on call. Never been able to shut my phone off. Like people are like, \"Oh, it\\'d be so great. You should go on that Chardonnay cruise.\" Like I can\\'t go on the Chardonnay cruise. Because are they gonna turn it around? I\\'m on call 24 hours a day. Yeah. So like, right, in this moment today, I\\'m not on birth call because there\\'s nobody who\\'s term is\\n\\nInterviewer  8:17 Scheduled for this week, right?\\n\\nKelly Olmstead  8:18 Well, not even this week. But there\\'s a five week window. So you\\'re on birth call for five weeks for everybody until they have their baby. Yeah. And so she happened to give birth on her due date. And I don\\'t have anybody do until late June. So I have a couple of weeks not on birth call, but people can still call with any number of other things.\\n\\nInterviewer  8:33 And what would you say is your most favorite part of the job?\\n\\nKelly Olmstead  8:35 Seeing women be strong. For sure. Yeah, everybody thinks that midwives go into midwifery because of the babies. And of course babies are cute. They are really cute. But the baby is a very short part of what we do. And what I love is getting to know women and their own personal circumstances and helping pregnant people throughout the course of their pregnancy and then seeing them find their own power. And so you know, women don\\'t really know how strong they are until they give birth and they\\'re like holy cow.\\n\\n# INTERVIEW BREAK\\n\\nInterviewer  9:09 For those who are just tuning in, you\\'re listening to What To Be on KSQD 90.7 FM Santa Cruz. I\\'m Melina and I\\'m joined by other host Nick, we\\'re speaking with Kelly Olmstead, who is telling us about her career as a licensed midwife. I would just like to remind listeners that the views and opinions expressed in this program do not necessarily represent those of Natural Bridges Media, YFIOB, or this career in its entirety. Comments made in this segment, and information provided during the show are not intended or implied to be a substitute for professional medical advice, diagnosis or treatment. Please be advised that this week\\'s episode may contain content that may be considered graphic or sensitive for young audiences.\\n\\n# DIFFERENCES BETWEEN TRADITIONAL BIRTH / MIDWIFERY\\n\\nSo you\\'re just telling us that you enjoy midwifery. One of the biggest reasons is getting to work with women and because it empowers women, and when you first heard about midwifery versus the actual job, what are the biggest discrepancies between those?\\n\\nKelly Olmstead  9:58 I think that people kind of have a tendency people who know about midwives have a tendency to put midwives kind of on a pedestal of like, oh, there\\'s, you know, they\\'re so amazing. And the reality is, we\\'re just people like everybody else. And we happen to be inspired to, to be able to offer this kind of experience to women. And we put up with the hard things of being on call and having rough hours and getting called out of bed at two in the morning, to be able to provide this experience for women to give birth with minimal technological intervention.\\n\\n# EXPLORING BIRTH OPTIONS\\n\\nInterviewer  10:33 And then I have a kind of a scenario that I want to ask you about. Okay, so say I am a pregnant woman. And this is my first time giving birth. What would you tell me if I called you? And I\\'m like, hey, I want a midwife. I have no idea what I\\'m doing.\\n\\nKelly Olmstead  10:46 Right? So you\\'re talking about the early like for a consultation? Yes. So I would have you come in and I spend an hour with everybody who\\'s interested. You don\\'t need to even know that you want to have a home birth or want to have a midwife. I encourage everybody to explore their options because if you don\\'t know anything about that option, how do you know whether it\\'s the right one for you? I am not somebody who believes that every woman should give birth at home. But what I am is a woman who believes that everyone should be empowered to make the choice that\\'s right for them.\\n\\nAnd a lot of what you see on television, in movies, that you read in What to Expect When You\\'re Expecting, is all very much driven by kind of this standard patriarchal idea of you get pregnant, you go to a doctor get told what to do you do it, you go into a hospital, you come out with the baby, and that the process itself does not matter. That\\'s how I handled my first two pregnancies, I got pregnant, I went to the OB that was recommended to me, I read What To Expect [When You\\'re Expecting]. She said it\\'s time to induce, I was 39 weeks pregnant. In retrospect, there was zero reason for that to happen. And I just thought that labor was a way you go into a hospital and come out with a baby. And that\\'s basically what it was. for me. The reality is it can be a very transformative experience, and so I don\\'t think that every woman needs that or wants that. But I think that it\\'s worth exploring to see if that\\'s something that would be a good fit for you.\\n\\nI\\'m about informed choice and informed refusal to so it\\'s really about you understanding. Here\\'s the risks and benefits of this, here\\'s the risks and benefits of this. There\\'s no risk free way to have a baby. There\\'s no risk free way to have a pregnancy, you are taking on risk, one way or the other. So understanding fully, what is your set of risks, choosing this scenario, versus what is your set of risks, choosing this scenario, I think is significant and different families are going to weigh those things differently. So it\\'s not my job to tell you what to do. It\\'s my job to give you as unbiased of information as I can, so that you can choose what\\'s right for you.\\n\\nInterviewer  12:40 So in this scenario would come in and you would give me all the information that I would need? And then I would make the decision, right?\\n\\nKelly Olmstead  12:46 Yeah, well, usually people come in with a list of questions. And sometimes people don\\'t come in with a list of questions. And then I will kind of guide them through a list of questions like \"What do we what do you do if there\\'s an emergency?\" or \"What equipment do you carry with you?\" and \"What things do you have that the hospital you know that whatever?\"\\n\\n# WHAT A MIDWIFE BRINGS\\n\\nInterviewer  13:03 Yeah, what kind of equipment do you have?\\n\\nKelly Olmstead  13:05 Yeah, so I mean, I have the same three medications for postpartum hemorrhage that the hospital has, I\\'m fast to use them because they\\'re sitting right next to me as opposed to in the hospital, they\\'re out in another thing. So I also have resuscitation equipment, oxygen, so that if a baby needs help getting started, we have all of that. I carry a doppler, we listen to the baby regularly, while it\\'s still inside the mother, blood pressure, temperature, pulse oximeter, all of those kinds of things.\\n\\nSo the one of the midwives, who trained me said, we carry the equivalent of a level one hospital delivery suite in our trunks. Yeah, so we come prepared for everything. And then most of the time, we never use most of it, so you\\'re ready for every potential thing that can happen. Many, if not most of those things can be resolved quite competently at home. And if not, we always have a transport plan in place to move things quickly. So we\\'re not staying home, it\\'s never a choice of home birth, or, like nothing, like there\\'s no home or bust. And so, you know, my job is to maintain safety at home, and to know when the warning signs are present that suggests that this would be better completed in the hospital.\\n\\n# HOME BIRTH SAFETY / CESAREAN SECTIONS & EPIDURALS\\n\\nInterviewer  14:20 Is it just as safe as in the hospital?\\n\\nKelly Olmstead  14:22 Yes, for low risk women. So you know, you don\\'t want to have pre existing hypertension, pre existing diabetes, you don\\'t want to be undergoing cancer treatment. You don\\'t want to have you know, an out of control thyroid, things like that. But for your healthy woman who\\'s carrying a single baby. It is as safe. And in addition, one of the things that I feel like always gets overlooked, like for instance, my cesarean rate right now is somewhere under 3%. It\\'s about two and a half percent of the last like 260 babies that are in my statistics program.\\n\\nInterviewer  14:56\\n\\nAnd what is cesarean?\\n\\nKelly Olmstead  14:57 Cesarean is when the baby is born by the woman being cut open up dominantly. In the hospitals in Santa Cruz County, they do better than the national average, which is 33% Currently, but they\\'re still at about 29%. So 29% of women are giving birth in Santa Cruz County are giving birth by cesarean section. Now, granted, they are also talking about higher risk babies like triplets and twins and people that have those conditions. But most women don\\'t have those conditions. So regardless, cesarean right should not be 29% anywhere in the country, except potentially at a place like, you know, Stanford or somewhere that\\'s dealing with the highest of high risk. And so from my perspective of the reason that I would tell a first time mom and why I would hope my daughters would consider planning a home birth is not the home birth itself, it\\'s the reduction in cesarean section. So having a home birth is a wonderful, awesome thing for so many reasons. But it vastly decreases your risk of having a cesarean section because we\\'re more patient, because we\\'re not pressuring women to induce too soon, all of the things that contribute to a C section rate that\\'s higher.\\n\\nAnd so the other thing too, is like for instance, you know, when you\\'re in transition at the hospital, you know, that epidural sounds like a really good idea, you know, because everybody gets to the place where they can\\'t do it. And so when you say, well, let\\'s get in the tub instead, there is no epidural available so you can move past that. Yeah. And so but it that\\'s really hard to do in the hospital. Your option is to is to tap out. And and I also don\\'t want to say that the epidural is a terrible thing, because it\\'s 100% not. It\\'s just overused. And again, but that\\'s a woman\\'s choice, right. It\\'s a woman\\'s choice to use or not use pain medications to give birth that I have no judgment for that. I\\'ve had to epidurals myself, but I do know that it is much easier to avoid them when you\\'re planning a home birth because you\\'ve got the support and it\\'s not just immediately right there.\\n\\nInterviewer  16:58 Have you ever delivered a baby in hospital before?\\n\\nKelly Olmstead  17:01 In the Dominican Republic. When I was in training, we did a clinical trip to a hospital in Bani in the Dominican Republic, and spent two weeks there helping deliver babies under the guidance of their obstetricians. But other than that I have not. Once I did, though, when the doctor wasn\\'t getting there, the nurse and I deliver the baby.\\n\\nInterviewer  17:21 And then speaking of epidural and pain and all that, how do you get women through that pain?\\n\\nKelly Olmstead  17:26 So I mean, there\\'s many things to do. So much of labor is noticing the spaces in between. You know, if you\\'re having when you\\'re if you\\'re having contractions that are four minutes apart, and they\\'re lasting for a minute, three quarters of the time, you\\'re not in any pain. So you have a minute of holy cow, This really hurts and then you have three minutes. So if you can get a woman to rest, and to be calm during those and to like not think about the next one or how bad that last one was, if you can help her find those spaces, then she can maintain energy for the next one that\\'s coming.\\n\\nIn addition, you\\'re talking them through it, you\\'re offering them shower position changes, eventually, the birth tub is usually a great thing for most women. We try to save that till closer to the end so that they get that full relief. You know, like everybody does when they get in a hot tub. You know, women will say I can\\'t do it. And if you can look them in the eyes and say, but you are doing it. So much of it is just keeping them coming back to a place of calm during those hard times. And then they get past it and then it\\'s time to push.\\n\\n# INTERVIEW BREAK\\n\\nInterviewer  18:31 For those who are just tuning in. You\\'re listening to What To Be at KSQD 90.7 FM Santa Cruz, our show What To Be highlights the career journeys of inspirational people in Santa Cruz County. I\\'m Melina and I\\'m joined by other host Nick. We\\'re speaking with Kelly Olmstead, who is a licensed midwife and we\\'re learning about her career journey. I would just like to remind listeners that the views and opinions expressed in this program do not necessarily represent those of Natural Bridges Media, YFIOB, or this career in its entirety. Comments made in this segment, and information provided during the show are not intended or implied to be a substitute for professional medical advice, diagnosis or treatment. Please be advised that this week\\'s episode may contain content that may be considered graphic or sensitive for young audiences.\\n\\n# PERSONAL CARE WITH PATIENTS\\n\\nHow many women are you responsible for at one time?\\n\\nKelly Olmstead  19:16 Right, so every midwife chooses and kind of figures out for themselves what works best for their own personal lives and for their clients. There\\'s no perfect way to make that decision. What I do personally is I choose to have no more than three primary clients in a calendar month. So one of the things that differentiates us from hospital based care even with a midwife is that you\\'re not hiring me and a group of people, you\\'re hiring me. So that\\'s why I\\'m on call all the time.\\n\\nSo it\\'s like I get to know you, Melina, through the entire course of your pregnancy. When you go into labor, you get a familiar face. In the hospital, you get this doctor or the other eight that she works with, right, and sometimes if you have a long labor where you might see three different doctors over the course of your labor.\\n\\nI personally like the continuity of care, I think that affords really good outcomes because you already feel safe with me. I already know so much about you, we\\'ve spent probably 13 hours, over the course of your pregnancy at our prenatal visits, getting to know each other. I know your kids, I know your difficult mother in law, I know your house, I know, anything that could complicate or create issues. And so even if a birth does become complicated, I know those things where if we went into, say, the hospital, because you have a really slow labor, and it\\'s complicated by some trauma from a car accident 20 years ago, or whatever, I know about that.\\n\\nThe doctor taking care of you doesn\\'t know and probably doesn\\'t care. And so I can facilitate and smooth and try to, make things happen in a way that\\'s going to afford you the best outcome for your personal circumstances. And so I personally believe that continuity of care is, is one of the most critical pieces that homebirth midwives, licensed midwives offer to people, which is why I try to keep it at no more than three clients in a calendar month. Every once in a while, like a repeat client will be like, \"Hey, guess what? I\\'m 12 weeks pregnant?\" And you\\'re like, \"Great! Now I\\'m gonna have four.\"\\n\\n# LEARNING THROUGH EXPERIENCE\\n\\nInterviewer  21:21 And do you have any interesting stories? Or can you tell us about like, the first time that you delivered a baby?\\n\\nKelly Olmstead  21:28 You know, I don\\'t remember the first my first catch. That\\'s really interesting that you ask, because I\\'ve been going to births for so long. I will say that the first the first time I saw a baby being born, that wasn\\'t my own, I was really surprised at what the scalp looked like as it was coming out. Because oftentimes, the skin of the of the scalp kind of folds over a little bit on itself. So I thought the baby didn\\'t have any bones in its skull. Oh, you know, I was like, wow, nobody else is panicking about this. It didn\\'t look normal. Yeah. And then the baby came out, of course, had a completely normal skull, but I just didn\\'t know that.\\n\\nThere\\'s a lot of things with midwifery that unless you know, don\\'t look normal, you know. I can\\'t think of specific other examples are particularly ones that would be non-graphic. But I remember early on one of the midwives, who trained me said, \"Kelly, you\\'ve got to work on your game face.\" No matter what\\'s going on in front of you act like you\\'ve seen it a million times.\\n\\n# WHAT\\n\\nIF SCENARIO\\n\\nInterviewer  22:35 And then, so going back to the start, so say I am one of your clients. Say I call you and I\\'m like, I\\'m in a lot of pain. I\\'m pretty sure the baby\\'s coming out. What would you tell me?\\n\\nKelly Olmstead  22:48 Like coming out right now?\\n\\nInterviewer  22:49 I think it\\'s coming out soon. But again, it\\'s my first time. So I would never know, right? What would you...?\\n\\nKelly Olmstead  22:55 We will have already talked about, you know, what labor tends to look like, what the variations might be. In addition, at your home visit, which I do at 36 weeks, that\\'s when you meet anybody else who would be coming to the delivery, and we test out your map, make sure we can find you at three in the morning in the pouring foggy rain. You know, Santa Cruz has a lot of addresses that are not easy to find. I hand out a laminated handout that says what to do when the baby is coming faster than the midwife. And yeah, I hand it out. So that the partner goes okay, and it\\'s basically you get out of gravity, try to put something waterproof under her. And if it\\'s going this fast, it\\'s going really well. You\\'ll be on the phone with me, you can always call 911. You know, it\\'s just kind of very basic. This year is the first time since I have started going to birth in... I started midwifery school in 2006. And this year is the first time that baby got born before a midwife didn\\'t get there.\\n\\nInterviewer  23:46\\n\\nOh, wow.\\n\\nKelly Olmstead  23:52 That was a labor. That was about 35 minutes for a first time mom.\\n\\nInterviewer  24:00\\n\\nWow.\\n\\nKelly Olmstead  24:01 Most moms push for twice that, let alone, I mean, she started having contractions, her water broke, the baby came.\\n\\n# STATISTICS & EXPERIENCE\\n\\nInterviewer  24:07 And how many babies would you say you deliver in a year?\\n\\nKelly Olmstead  24:11 Um, you know, I haven\\'t looked at that because my stats are whether I\\'m the midwife... I haven\\'t broken out the stats that way. I also assist at other people\\'s births. Does that make sense? So I know that I probably go to about 36 to 40, maybe in a in a calendar year.\\n\\n# MEETING WITH CLIENTS\\n\\nInterviewer  24:30 And how often do you meet with these pregnant women?\\n\\nKelly Olmstead  24:33 So we follow the same course of care that you would if you just went to the local OB office, it\\'s every month, up until 28 weeks, and then it\\'s every other week until 36 weeks. 36 weeks, unlike at the hospital based practices, is your home visit and then back to the office every week until you deliver. And then there can be additional things like say, you know, I\\'ve had people come in for extra appointments because like their neighbor\\'s dog jumped on them and they\\'re they want to listen to the baby\\'s heartbeat. Yeah, you know, things like that where people are concerned about something and depending on what the circumstances are, I\\'ll either see them in the office or I\\'ll meet them at the hospital.\\n\\n# BEING A DOULA\\n\\nInterviewer  25:09 What advice would you give to someone who\\'s interested in pursuing midwifery?\\n\\nKelly Olmstead  25:13 The first thing I would say is to consider becoming a doula first.\\n\\nInterviewer  25:20\\n\\nWhat is a doula?\\n\\nKelly Olmstead  25:21 A doula is a non medical professional that takes that helps women give birth. So she is- usually a she not always a she. The doula is somebody who has information and physical support and emotional support, and can help with all of the comfort measures for a woman in labor. So pressing on their back when they\\'re having back pain and helping them with position changes, and looking them in the eye and say \"You\\'re doing great.\"\\n\\nIt\\'s a really good way to learn about birth. It\\'s a really good way to learn about how the hospital system works, because most women who hire doulas are choosing hospital birth. Although doulas are very, very welcome at home as well. And it allows you to get used to \"Can I be on call?\" Or \"Can I carry my phone with me literally everywhere?\" and \"Can I get up at two in the morning and be gone for 40 hours?\" You know, like you can be gone for a really long time. So the two births that I had earlier this year, I had the one that the baby was born a minute before I arrived. I got there in eight minutes with the baby born in seven. And the other one I was there for 35 hours. Yeah, I went home for a couple of hours to shower and take a quick nap. Yeah, it\\'s a long time. So I mean, that\\'s kind of the your range of variation of birth, both first time moms, you know.\\n\\nInterviewer  26:42 It\\'s exciting. Never know what\\'s... [going to happen].\\n\\nKelly Olmstead  26:45 Right. So what back to that question. Being a doula allows you to see, can you handle the variations of birth, the unpredictability, that all that kind of lifestyle? And then you can kind of decide, is this something that I want to go into.\\n\\nInterviewer  26:56\\n\\nBefore you jump, right?\\n\\nKelly Olmstead  26:58 Exactly, because that requires much less training. And you\\'re not responsible for anything, you know, you\\'re not responsible for the health and wellbeing.\\n\\n# ADVICE\\n\\nInterviewer  27:07 So the last question we have for you is, what is a thought or a piece of advice you\\'d like to leave our listeners with? Okay.\\n\\nKelly Olmstead  27:13 So I would say that the biggest thing is to explore options when you\\'re pregnant. That isn\\'t so much career advice. But advice, as a midwife, and it\\'s true of, of any form of health care whether you\\'re a pregnant person trying to decide how you want to deliver a particular baby, or whether you\\'re looking at a surgery that you might or might not do, or anything is to really understand what your options are, do research, go into things with an open mind and see like \"Is this something that makes sense for me?\" I would say that\\'s true of careers, as well, you know, you don\\'t know where you\\'ll end up. You know, I\\'m 51, if you ask most people, I would say probably a lot of them started in a very different career than the one that they\\'re at in their 50s. And so, you know, who knows, be open.\\n\\n# INTERVIEW CONCLUSION\\n\\nInterviewer  28:03\\n\\nAll right. Thank you.\\n\\nKelly Olmstead  28:04\\n\\nYou\\'re welcome.\\n\\nInterviewer  28:04 Yeah, thank you so much.\\n\\nThank you to all of our KSQD listeners for tuning into today\\'s career story with your hosts, Nick and Melina on our show What To Be with today\\'s guest, Kelly, who is a licensed midwife.\\n\\nOur show What To Be highlights the career journeys of inspirational people in Santa Cruz County. If you have any questions or like to be on the show, please send us an email at whattobe@ksqd.org. If you enjoyed our show, please join us again at 90.7 FM KSQD Santa Cruz at 7pm on Sundays or you can stream online at ksqd.org. Thank you for listening')"
            ]
          },
          "metadata": {},
          "execution_count": 76
        }
      ],
      "source": [
        "#Do not edit this cell - just run it using the button on the left. This cell will take sometime to load and then give you a preview of a transcript\n",
        "folder_path = \"/content/drive/My Drive/Sample Transcripts\"\n",
        "\n",
        "loader = DirectoryLoader(folder_path, glob=\"**/*.txt\")\n",
        "transcripts = loader.load()\n",
        "transcripts[0]"
      ]
    },
    {
      "cell_type": "code",
      "execution_count": 77,
      "metadata": {
        "id": "1Y8qlQ5jGNU-"
      },
      "outputs": [],
      "source": [
        "#Do not edit this cell - just run it using the button on the left\n",
        "\n",
        "VALID_INDUSTRY_SECTORS = {\n",
        "    \"Not categorized yet\",\n",
        "    \"Architecture and Engineering\",\n",
        "    \"Agriculture and Natural Resources\",\n",
        "    \"Marketing, Sales, and Service\",\n",
        "    \"Building, Trades, and Construction\",\n",
        "    \"Energy, Environment, Utilities\",\n",
        "    \"Fashion and Interior Design\",\n",
        "    \"Manufacturing and Product Development\",\n",
        "    \"Education, Child Development, Family Services\",\n",
        "    \"Public and Government Services\",\n",
        "    \"Finance and Business\",\n",
        "    \"Arts, Media, and Entertainment\",\n",
        "    \"Information and Computer Technologies\",\n",
        "    \"Hospitality, Tourism, Recreation\",\n",
        "    \"Health Services, Sciences, Medical Technology\"\n",
        "}"
      ]
    },
    {
      "cell_type": "markdown",
      "metadata": {
        "id": "Bd_g8SH5zUqp"
      },
      "source": [
        "Now that the transcripts are uploaded, we need to chunk them into **manageable** portions. This is crucial for two reasons: to fit within the input limits of embedding models and to improve the granularity of retrieval from the vector database. The code below splits the transcripts by character count and extracts useful metadata (like interviewee name, industry, and source) for later use in Pinecone."
      ]
    },
    {
      "cell_type": "code",
      "execution_count": 78,
      "metadata": {
        "id": "CYW2DDsYGOsx"
      },
      "outputs": [],
      "source": [
        "#Do not edit this cell - just run it using the button on the left\n",
        "\n",
        "from langchain.text_splitter import RecursiveCharacterTextSplitter\n",
        "import re\n",
        "\n",
        "# Initialize the text splitter\n",
        "text_splitter = RecursiveCharacterTextSplitter(\n",
        "    chunk_size=1000,  # Adjust chunk size as needed\n",
        "    chunk_overlap=200  # Adjust overlap as needed\n",
        ")\n",
        "\n",
        "# Split each transcript into chunks\n",
        "chunks = []\n",
        "for transcript in transcripts:\n",
        "    file_path = transcript.metadata['source']\n",
        "    file_name = re.search(r'([^/]+)\\.txt', file_path).group(1)\n",
        "    content = transcript.page_content\n",
        "\n",
        "    # Extract Interviewee Name\n",
        "    interviewee_match = re.search(r'Interviewee:\\s*([A-Za-z]+\\s+[A-Za-z]+)', content)\n",
        "    interviewee_name = interviewee_match.group(1).strip() if interviewee_match else \"Unknown\"\n",
        "\n",
        "    # Extract Industry Sector\n",
        "    sector_matches = re.search(r'Industry Sectors\\s*:\\s*([^\\n]+?)(?=\\s*Takeaways:|#|$)', content)\n",
        "    industry_sector = []\n",
        "    if sector_matches:\n",
        "      extracted_text = sector_matches.group(1)\n",
        "      for sector in VALID_INDUSTRY_SECTORS:\n",
        "          if sector in extracted_text:\n",
        "              industry_sector.append(sector)\n",
        "\n",
        "    source_match = re.search(r'Source\\s*:\\s*([^\\n]+)', content)\n",
        "    source = source_match.group(1).strip() if source_match else \"Unknown\"\n",
        "\n",
        "    # Split texts\n",
        "    splits = text_splitter.split_text(content)\n",
        "    for i, split in enumerate(splits):\n",
        "        chunks.append({\n",
        "            \"file_name\": file_name,\n",
        "            \"chunk_id\": i,\n",
        "            \"Interviewee\": interviewee_name,\n",
        "            \"Industry Sectors\": industry_sector,\n",
        "            \"Source\": source,\n",
        "            \"content\": split,\n",
        "        })"
      ]
    },
    {
      "cell_type": "code",
      "execution_count": 79,
      "metadata": {
        "id": "xv2toRpAGRQd"
      },
      "outputs": [],
      "source": [
        "#Do not edit this cell - just run it using the button on the left\n",
        "\n",
        "from langchain.schema import Document\n",
        "\n",
        "# Convert chunks to LangChain Document format\n",
        "documents = []\n",
        "for chunk in chunks:\n",
        "    doc = Document(\n",
        "        page_content=chunk[\"content\"],\n",
        "        metadata={\n",
        "            \"file_name\": chunk[\"file_name\"],\n",
        "            \"chunk_id\": chunk[\"chunk_id\"],\n",
        "            \"Interviewee\": chunk[\"Interviewee\"],\n",
        "            \"Industry Sectors\": chunk[\"Industry Sectors\"],\n",
        "            \"Source\": chunk[\"Source\"],\n",
        "        }\n",
        "    )\n",
        "    documents.append(doc)"
      ]
    },
    {
      "cell_type": "markdown",
      "metadata": {
        "id": "FS5-g_OFzsQ9"
      },
      "source": [
        "We now want to embed each of our chunks. This is what we'll upload to the database and use to retrieve relevant excerpts. (This may take a few minutes)"
      ]
    },
    {
      "cell_type": "code",
      "execution_count": 80,
      "metadata": {
        "id": "c8GXNGqjGcFd"
      },
      "outputs": [],
      "source": [
        "#Do not edit this cell - just run it using the button on the left. This cell will take sometime to load\n",
        "from sentence_transformers import SentenceTransformer\n",
        "# Use SentenceTransformer model\n",
        "embedding_model = SentenceTransformer('avsolatorio/GIST-large-Embedding-v0')\n",
        "\n",
        "# Generate embeddings for each document\n",
        "embeddings = [embedding_model.encode(doc.page_content) for doc in documents]"
      ]
    },
    {
      "cell_type": "code",
      "execution_count": 81,
      "metadata": {
        "colab": {
          "base_uri": "https://localhost:8080/"
        },
        "id": "C_M6-P8UH9V2",
        "outputId": "af1eabd7-2306-42d1-c86e-904406b9db2b"
      },
      "outputs": [
        {
          "output_type": "stream",
          "name": "stdout",
          "text": [
            "Amount of Embeddings: 264\n",
            "Embedding Dimensions: 1024\n"
          ]
        }
      ],
      "source": [
        "#Do not edit this cell - just run it using the button on the left.\n",
        "embedding_amount = len(embeddings)\n",
        "embedding_dimension = len(embeddings[0])\n",
        "print(\"Amount of Embeddings:\", embedding_amount)\n",
        "print(\"Embedding Dimensions:\", embedding_dimension)"
      ]
    },
    {
      "cell_type": "markdown",
      "metadata": {
        "id": "PUieBOG-jCZ0"
      },
      "source": [
        "It's time to create our vector database in Pinecone. Ensure your Pinecone API key is securely defined (e.g., in Colab Secrets). Also, choose a unique name for your index to avoid conflicts with existing ones.\n",
        "\n",
        "Once you run the cell below, a new Pinecone index will be created, and it will begin uploading each of the transcript excerpts. While the upload is in progress, you can monitor the data ingestion by visiting [https://app.pinecone.io/](https://app.pinecone.io/)."
      ]
    },
    {
      "cell_type": "code",
      "execution_count": 82,
      "metadata": {
        "colab": {
          "base_uri": "https://localhost:8080/"
        },
        "id": "XCntM1NbIY11",
        "outputId": "0bf8ff94-cae2-4214-f04a-8b3435263316"
      },
      "outputs": [
        {
          "output_type": "stream",
          "name": "stdout",
          "text": [
            "Upsert completed successfully!\n"
          ]
        }
      ],
      "source": [
        "from pinecone import Pinecone, ServerlessSpec\n",
        "import numpy as np\n",
        "\n",
        "# Access secret Pinecone key\n",
        "from google.colab import userdata\n",
        "PINECONE_API_KEY = userdata.get('PINECONE_API_KEY')\n",
        "# Initialize Pinecone\n",
        "pc = Pinecone(api_key=PINECONE_API_KEY)\n",
        "# Define the index name\n",
        "index_name = \"test-dummy\" # Replace with desired name\n",
        "\n",
        "# Check if the index already exists\n",
        "if index_name not in pc.list_indexes().names():\n",
        "    # Create a new index\n",
        "    pc.create_index(\n",
        "        name=index_name,\n",
        "        dimension=embedding_dimension,\n",
        "        metric=\"cosine\",\n",
        "        spec=ServerlessSpec(\n",
        "            cloud=\"aws\",\n",
        "            region=\"us-east-1\"\n",
        "        )\n",
        "    )\n",
        "\n",
        "# Connect to the index\n",
        "index = pc.Index(index_name)\n",
        "\n",
        "# Function to upsert vectors in batches\n",
        "def upsert_in_batches(vectors, batch_size=25):\n",
        "    \"\"\"Splits upsert operations into batches to avoid exceeding Pinecone's 4MB limit.\"\"\"\n",
        "    for i in range(0, len(vectors), batch_size):\n",
        "        batch = vectors[i:i + batch_size]\n",
        "        try:\n",
        "            index.upsert(vectors=batch)\n",
        "        except Exception as e:\n",
        "            print(f\"Error upserting batch {i // batch_size + 1}: {e}\")\n",
        "\n",
        "# Prepare vectors\n",
        "vectors = []\n",
        "for i, (doc, embedding) in enumerate(zip(documents, embeddings)):\n",
        "    metadata = {\n",
        "        \"file_name\": doc.metadata.get(\"file_name\", f\"file_{i}\"),\n",
        "        \"chunk_id\": doc.metadata.get(\"chunk_id\", i),\n",
        "        \"Interviewee\": doc.metadata.get(\"Interviewee\", \"Unknown\"),\n",
        "        \"Industry Sectors\": doc.metadata.get(\"Industry Sectors\", \"wrong\"),\n",
        "        \"Source\": doc.metadata.get(\"Source\", \"Unknown\"),\n",
        "        \"content\": doc.page_content,\n",
        "    }\n",
        "\n",
        "    vectors.append({\n",
        "        \"id\": f\"chunk_{i}\",  # Unique ID for each chunk\n",
        "        \"values\": embedding.tolist(),  # Convert numpy array to list\n",
        "        \"metadata\": metadata\n",
        "    })\n",
        "\n",
        "# Upsert the vectors in batches\n",
        "upsert_in_batches(vectors, batch_size=50)\n",
        "\n",
        "print(\"Upsert completed successfully!\")"
      ]
    },
    {
      "cell_type": "code",
      "execution_count": 83,
      "metadata": {
        "colab": {
          "base_uri": "https://localhost:8080/"
        },
        "id": "W2u4CwQ5gl1B",
        "outputId": "fd9124a7-b346-4a8d-9817-7c0f5ff07275"
      },
      "outputs": [
        {
          "output_type": "execute_result",
          "data": {
            "text/plain": [
              "Document(metadata={'file_name': '001_KellyOlmstead_LicensedMidwife', 'chunk_id': 0, 'Interviewee': 'Kelly Olmstead', 'Industry Sectors': [], 'Source': 'https://soundcloud.com/what'}, page_content='Source: https://soundcloud.com/what\\n\\nto\\n\\nbe/midwife\\n\\nkelly\\n\\nolmstead?utm_source=clipboard&utm_medium=text&utm_campaign=social_sharing\\n\\nInterviewee: Kelly Olmstead Industry Sector: Health Services, Sciences, Medical Technology Takeaways: Early self-discovery and interest exploration: Understanding different career paths, Early self-discovery and interest exploration: Exploring personal interests passions and values, Career decision-making and commitments: Making informed career decisions, Career decision-making and commitments: Taking the leap seizing opportunities and epiphany, Career pivots reconsideration and development: Integrating different passions or interests\\n\\n# INTERVIEW INTRODUCTION')"
            ]
          },
          "metadata": {},
          "execution_count": 83
        }
      ],
      "source": [
        "documents[0]"
      ]
    },
    {
      "cell_type": "markdown",
      "metadata": {
        "id": "17TT5qEeveRk"
      },
      "source": [
        "## Setup functions\n",
        "\n",
        "**You should run the below cells in this section once.**\n",
        "\n",
        "These cells define helper functions crucial for the RAG pipeline: an `API_call` function for interacting with the Gemini LLM, a `CustomEmbeddings` class for embedding queries, and a `parse_query_string` function to process query objects. You only need to run these setup cells once."
      ]
    },
    {
      "cell_type": "code",
      "execution_count": 84,
      "metadata": {
        "id": "RKFXwwNho2a-"
      },
      "outputs": [],
      "source": [
        "#You only need to run this cell without making any changes\n",
        "\n",
        "import google.generativeai as genai\n",
        "\n",
        "# Access secret Gemini API key\n",
        "from google.colab import userdata\n",
        "GEMINI_API_KEY = userdata.get('GEMINI_API_KEY')\n",
        "\n",
        "# Defining an API_call function, here we are using gemini\n",
        "def API_call(model, key, prompt):\n",
        "    \"\"\"\n",
        "    Makes a call to the specified Generative AI model.\n",
        "    Args:\n",
        "        model (str): The name of the model to use (e.g., \"gemini-2.0-flash\").\n",
        "        key (str): The API key for authentication.\n",
        "        prompt (str): The prompt to send to the model.\n",
        "    Returns:\n",
        "        str: The text response from the API.\n",
        "    Raises:\n",
        "        ValueError: If the specified model is not supported.\n",
        "    \"\"\"\n",
        "    if model[0:6] == \"gemini\":\n",
        "        genai.configure(api_key=key)\n",
        "        model = genai.GenerativeModel(model)\n",
        "        response = model.generate_content(prompt)\n",
        "        return response.text\n",
        "\n",
        "    else: raise (f\"Error, model {model} not found\")\n"
      ]
    },
    {
      "cell_type": "code",
      "execution_count": 85,
      "metadata": {
        "id": "AdsY7CY8Gcc2"
      },
      "outputs": [],
      "source": [
        "#Do not edit this cell - just run it using the button on the left\n",
        "from sentence_transformers import SentenceTransformer\n",
        "# Use SentenceTransformer model\n",
        "embedding_model = SentenceTransformer('avsolatorio/GIST-large-Embedding-v0')\n",
        "\n",
        "# Custom class to wrap SentenceTransformer for compatibility with LangChain\n",
        "class CustomEmbeddings:\n",
        "    def __init__(self, model):\n",
        "        self.model = model\n",
        "\n",
        "    def embed_query(self, text):\n",
        "        return self.model.encode(text).tolist()\n",
        "\n",
        "    def embed_documents(self, texts):\n",
        "        return [self.model.encode(text).tolist() for text in texts]\n",
        "\n",
        "embedding = CustomEmbeddings(embedding_model)"
      ]
    },
    {
      "cell_type": "code",
      "execution_count": 86,
      "metadata": {
        "id": "NSjeyweT_Sph"
      },
      "outputs": [],
      "source": [
        "#Do not edit this cell - just run it using the button on the left\n",
        "import os\n",
        "from google.colab import userdata\n",
        "\n",
        "os.environ['PINECONE_API_KEY'] = PINECONE_API_KEY\n",
        "\n",
        "import ast\n",
        "\n",
        "def parse_query_string(query_string):\n",
        "    # Convert the string into a dictionary using ast.literal_eval\n",
        "    input_dict = ast.literal_eval(query_string)\n",
        "\n",
        "    # Ensure the fields are of the correct type\n",
        "    result_dict = {\n",
        "        \"content_string_query\": input_dict.get(\"content_string_query\", \"\"),\n",
        "        \"industry_filter\": input_dict.get(\"industry_filter\", []),\n",
        "    }\n",
        "\n",
        "    # Convert industry_filter to lists if they are not already\n",
        "    if not isinstance(result_dict[\"industry_filter\"], list):\n",
        "        result_dict[\"industry_filter\"] = [result_dict[\"industry_filter\"]]\n",
        "\n",
        "    return result_dict"
      ]
    },
    {
      "cell_type": "markdown",
      "metadata": {
        "id": "Y2ODcxWuEmO8"
      },
      "source": [
        "# RAG Pipeline\n",
        "\n",
        "This section outlines the core RAG pipeline. By utilizing the defined tasks and the `RAG_Pipeline` function, users can submit a query and receive a grounded response that leverages the relevant documents uploaded to Pinecone as contextual information."
      ]
    },
    {
      "cell_type": "markdown",
      "metadata": {
        "id": "btSlbju-VyXT"
      },
      "source": [
        "# Task 1: Creating Query Objects\n",
        "\n",
        "Turning natural language query string to a query object. We do this to optimize the retrieval process for the vector database. To accomplish this, I have created a prompt such that given a natural language query string it is converted to a query object.\n",
        "\n",
        "## Example of a query object:\n",
        "query_string = '''\n",
        "{\n",
        "  \"content_string_query\": \"“You said you jumped straight from a 10-week EMT course into a year-and-a-half of paramedic school without first working on an ambulance. Looking back, what made that intense route worth it, and what would you advise teens who are eager to ‘sprint’ into the fire service today?”?\",\n",
        "  \"industry_filter\": [\"Career\"],\n",
        "}\n",
        "'''\n"
      ]
    },
    {
      "cell_type": "code",
      "execution_count": 87,
      "metadata": {
        "id": "fj6nSKReVyXT"
      },
      "outputs": [],
      "source": [
        "def cleanjson(response_str):\n",
        "        cleaned = response_str.strip()\n",
        "        if cleaned.startswith(\"```json\"):\n",
        "            cleaned = cleaned[7:]\n",
        "        elif cleaned.startswith(\"```\"):\n",
        "            cleaned = cleaned[3:]\n",
        "        if cleaned.endswith(\"```\"):\n",
        "            cleaned = cleaned[:-3]\n",
        "        return cleaned.strip()\n",
        "\n",
        "def format_query(query, valid_industries):\n",
        "  # Convert the set of valid industries to a comma-separated string for the prompt\n",
        "  industries_str = \", \".join(sorted(list(valid_industries))) # Sort for consistent order\n",
        "\n",
        "  query_prompt = f'''\n",
        "    SYSTEM ROLE: You are an **Expert RAG-Query Architect**.\n",
        "    Your task is to translate one natural-language career question (user_query) into a JSON query object that a vector database can consume.\n",
        "\n",
        "    INPUTS (always provided in this order):\n",
        "      1. user_query: A single question written by a student.\n",
        "      2. industries (optional): An array of predefined industry names.\n",
        "\n",
        "    OUTPUT:\n",
        "      Return **only** a JSON object with double quotes, no markdown formatting, and no backticks.\n",
        "\n",
        "    SCHEMA:\n",
        "      {{\n",
        "        \"content_string_query\": string,    // condensed, information-rich reformulation of user_query for embedding\n",
        "        \"industry_filter\": string[]       // OPTIONAL: array of 1–3 industry names from the input list, included only if the question clearly targets them\n",
        "      }}\n",
        "\n",
        "    GUIDELINES:\n",
        "      • Use standard JSON syntax with double quotes.\n",
        "      • Do NOT wrap the output in markdown backticks or use ```json.\n",
        "      • Preserve all essential meaning; do not paraphrase away domain-specific language.\n",
        "      • Write in a precise, professional tone (avoid conversational filler).\n",
        "      • Only include industry_filter if the query clearly targets specific industries.\n",
        "    Here is the query:\n",
        "      {query}\n",
        "    Predefined industries available for filtering: {industries_str}\n",
        "    '''\n",
        "  format_query = API_call(\"gemini-2.0-flash\", GEMINI_API_KEY, query_prompt)\n",
        "  return cleanjson(format_query)"
      ]
    },
    {
      "cell_type": "markdown",
      "metadata": {
        "id": "VRYYG-05VyXT"
      },
      "source": [
        "# Task 2: Querying the Vector Database (Retrieval Step)\n",
        "\n",
        "This section defines the function responsible for querying the Pinecone vector database. When executed, this function will parse the generated query object and retrieve the top 10 most relevant documents from the database. These retrieved documents will then serve as the contextual information for the final LLM response generation."
      ]
    },
    {
      "cell_type": "code",
      "execution_count": 94,
      "metadata": {
        "id": "HSDHOosSVyXT"
      },
      "outputs": [],
      "source": [
        "#Do not edit this cell - just run it using the button on the left\n",
        "import re\n",
        "import pprint\n",
        "from langchain_pinecone import PineconeVectorStore\n",
        "from langchain_community.chat_models import ChatOpenAI\n",
        "from langchain.vectorstores import Pinecone\n",
        "from langchain_openai import OpenAIEmbeddings\n",
        "\n",
        "# Define function for querying response\n",
        "def query_response(parsed_dict, top_k = 10):\n",
        "    # Extract the filters from the parsed dictionary\n",
        "    content_string_query = parsed_dict.get(\"content_string_query\", None)\n",
        "    industry_filter = parsed_dict.get(\"industry_filter\", [])\n",
        "\n",
        "    # Embed user query\n",
        "    vector=embedding.embed_query(content_string_query)\n",
        "    # Check if either filter is non-empty\n",
        "    if len(industry_filter) > 0:\n",
        "        return index.query(\n",
        "            vector=vector,\n",
        "            top_k=top_k,\n",
        "            include_values=True,\n",
        "            include_metadata=True,\n",
        "            filter={\n",
        "                'Industry Sectors': { \"$in\": industry_filter },\n",
        "            }\n",
        "        )\n",
        "    elif len(industry_filter) > 0:\n",
        "        return index.query(\n",
        "            vector=vector,\n",
        "            top_k=top_k,\n",
        "            include_values=True,\n",
        "            include_metadata=True,\n",
        "            filter={\n",
        "                'Industry Sectors': { \"$in\": industry_filter },\n",
        "            }\n",
        "        )\n",
        "    else:\n",
        "        return index.query(\n",
        "            vector=vector,\n",
        "            top_k=top_k,\n",
        "            include_values=True,\n",
        "            include_metadata=True,\n",
        "        )\n",
        "\n",
        "def format_documents(documents):\n",
        "    formatted_documents = []\n",
        "\n",
        "    for doc in documents['matches']:\n",
        "        formatted_doc = {\n",
        "            \"Passage\": doc['metadata']['content'],\n",
        "            \"Interviewee\": doc['metadata']['Interviewee'],\n",
        "            \"Industry Sectors\": doc['metadata']['Industry Sectors'],\n",
        "            \"Source\": doc['metadata']['Source'],\n",
        "        }\n",
        "        formatted_documents.append(formatted_doc)\n",
        "\n",
        "    return formatted_documents"
      ]
    },
    {
      "cell_type": "markdown",
      "metadata": {
        "id": "0cvqYpLwVyXU"
      },
      "source": [
        "# Task 3: Generating the user response\n",
        "\n",
        "This final step of the RAG pipeline involves designing a prompt to synthesize the original user query with the retrieved contextual information, ultimately generating a helpful and grounded response for the student.\n",
        "\n"
      ]
    },
    {
      "cell_type": "code",
      "execution_count": 89,
      "metadata": {
        "id": "y2EK-h7lVyXU"
      },
      "outputs": [],
      "source": [
        "def querying_db(query, retrieved_context):\n",
        "    rag_prompt = f'''\n",
        "\n",
        "    SYSTEM ROLE:\n",
        "    You are a career guidance AI designed to support high school students by offering authentic, experience-based advice. You ground your responses in real insights from professionals featured on the \"What To Be\" podcast.\n",
        "\n",
        "    TASK:\n",
        "    Using the student’s career question and retrieved context from podcast transcripts, craft a thoughtful, personalized response rooted in the lived experiences and reflections of the professionals interviewed.\n",
        "\n",
        "    INPUTS:\n",
        "    1. User Query: {query}\n",
        "    2. Retrieved Context: {retrieved_context}\n",
        "\n",
        "    OUTPUT INSTRUCTIONS:\n",
        "    • Begin with a warm, empathetic acknowledgment of the student's question and concerns.\n",
        "    • Share relevant experiences, stories, or quotes from professionals in the retrieved context.\n",
        "    • Use a supportive, conversational tone—like a trusted mentor offering guidance.\n",
        "    • Reference specific professionals by name and highlight their real experiences.\n",
        "    • Prioritize concrete details over generic advice—anchor your response in the lived realities from the transcripts.\n",
        "    • Provide actionable takeaways the student can use or reflect on.\n",
        "    • End with links to the podcast episodes so students can explore further. Format them as:\n",
        "    \"To hear more from [Name], check out their interview at [Source URL]\"\n",
        "\n",
        "    REQUIREMENTS:\n",
        "    • Use **only** the retrieved context. Do not fabricate details or speculate beyond it.\n",
        "    • Ensure your response is rich in content and insight, grounded in what professionals actually said.\n",
        "    • Maintain a tone that is honest, encouraging, and realistic—acknowledge that career paths can be non-linear and challenging.\n",
        "    • Avoid vague or generalized advice—focus on meaningful takeaways drawn directly from the context.\n",
        "    '''\n",
        "    db_response = API_call(\"gemini-2.0-flash\", GEMINI_API_KEY, rag_prompt)\n",
        "\n",
        "    return db_response"
      ]
    },
    {
      "cell_type": "markdown",
      "metadata": {
        "id": "1uMBEg0YVyXU"
      },
      "source": [
        "# Final RAG Pipeline function\n",
        "This function integrates all the preceding steps into a cohesive pipeline. It takes a user query, formats it, retrieves relevant contextual information from the vector database, and then prompts the LLM to generate a final, grounded response. This response will contain career insights directly extracted from the podcast documents parsed from Google Drive.\n"
      ]
    },
    {
      "cell_type": "code",
      "execution_count": 92,
      "metadata": {
        "id": "ef95YgAdv0Y_"
      },
      "outputs": [],
      "source": [
        "def RAG_Pipeline(query):\n",
        "    query_string = format_query(query, VALID_INDUSTRY_SECTORS)\n",
        "\n",
        "    # Parsing query string\n",
        "    parsed_dict = parse_query_string(query_string)\n",
        "\n",
        "    # Retrieve top-k relevant docs - default is 10\n",
        "    response = query_response(parsed_dict)\n",
        "\n",
        "    # Format\n",
        "    retrieved_context = format_documents(response)\n",
        "\n",
        "    #Query the DB with user query and retrieved context as arguments\n",
        "    db_response = querying_db(query_string, retrieved_context)\n",
        "    print(\"-\"*47)\n",
        "    print(\"FINAL USER RESPONSE:\")\n",
        "    print(db_response)\n",
        "    print(\"-\"*47)\n",
        "\n",
        "    return db_response"
      ]
    },
    {
      "cell_type": "markdown",
      "metadata": {
        "id": "EB5LzP9LA5vM"
      },
      "source": [
        "# Testing the RAG pipeline\n",
        "To utilize the RAG pipeline function, simply insert a query below that is relevant to the data stored in the documents. Lastly, run the cell to see the printed output!"
      ]
    },
    {
      "cell_type": "code",
      "execution_count": 93,
      "metadata": {
        "colab": {
          "base_uri": "https://localhost:8080/",
          "height": 974
        },
        "id": "B0iZSe3KvHTF",
        "outputId": "dd340eba-7847-49f1-fa87-8fb62fe84825"
      },
      "outputs": [
        {
          "output_type": "stream",
          "name": "stdout",
          "text": [
            "-----------------------------------------------\n",
            "FINAL USER RESPONSE:\n",
            "Okay, I understand you're looking for ways to explore different career options, especially when resources are limited. It's a great question and something many young people think about!\n",
            "\n",
            "From the \"What To Be\" podcast, I've heard some really insightful stories that might help.\n",
            "\n",
            "**Leveraging Local Resources & Opportunities:**\n",
            "\n",
            "*   **Keisha Frost, CEO:** Keisha's story is a powerful example of how community involvement can shape a career. Growing up, she was exposed to various activities and organizations like Girls Scouts, track and field, and tutoring through the United Way's initiatives in her school. This exposure not only kept her busy and connected but also paved the way for her future career path, eventually leading her back to the United Way as a CEO. Keisha's experience highlights how local community programs can offer valuable experiences and connections, even with limited resources.\n",
            "\n",
            "**Exploring Interests & Values:**\n",
            "\n",
            "*   **Rod Caborn, Event Producer and Fundraising Consultant:** Rod emphasizes the importance of finding enjoyment, fulfillment, and purpose in your work. He shares that he volunteers with the Rotary Club because he genuinely loves it. His advice is that if you feel engaged, proud, and humbled by what you do, you're in the right place. To explore career options, you can find things you enjoy doing and volunteer.\n",
            "*   **Brook Ewoldsen:** Brook's interview emphasizes the importance of exploring personal interests, passions, and values when exploring career paths.\n",
            "\n",
            "**Key Takeaways:**\n",
            "\n",
            "*   **Get involved in your community:** Look for local non-profits, volunteer opportunities, or community programs that align with your interests. These can provide valuable experience, skills, and connections.\n",
            "*   **Reflect on your values and interests:** What do you genuinely enjoy doing? What makes you feel proud and fulfilled? Use these reflections to guide your career exploration.\n",
            "*   **Don't be afraid to try different things:** Take advantage of any opportunities to gain real-world exposure and develop new skills.\n",
            "\n",
            "To hear more from Rod, check out their interview at https://soundcloud.com/what\n",
            "to\n",
            "be/5\n",
            "5\n",
            "19\n",
            "event\n",
            "producer?utm_source=clipboard&utm_medium=text&utm_campaign=social_sharing\n",
            "\n",
            "To hear more from Keisha, check out their interview at https://soundcloud.com/what-to-be/interview-with-ceo-of-united-way-santa-cruz-keisha-frost\n",
            "\n",
            "To hear more from Brook, check out their interview at https://soundcloud.com/what\n",
            "to\n",
            "be/fashion\n",
            "institute\n",
            "of\n",
            "design\n",
            "fidm\n",
            "guest\n",
            "speaker\n",
            "brook\n",
            "ewoldsen?utm_source=clipboard&utm_medium=text&utm_campaign=social_sharinghttps://soundcloud.com/what\n",
            "to\n",
            "be/fashion\n",
            "institute\n",
            "of\n",
            "design\n",
            "fidm\n",
            "guest\n",
            "speaker\n",
            "brook\n",
            "ewoldsen?utm_source=clipboard&utm_medium=text&utm_campaign=social_sharing\n",
            "\n",
            "-----------------------------------------------\n"
          ]
        }
      ],
      "source": [
        "#Test your pipeline here for your user queries\n",
        "query = \"How can young adults explore different career avenues with limited resources?\"\n",
        "response = RAG_Pipeline(query)"
      ]
    }
  ],
  "metadata": {
    "accelerator": "GPU",
    "colab": {
      "collapsed_sections": [
        "EI_CfdEMkCsb"
      ],
      "gpuType": "T4",
      "provenance": []
    },
    "kernelspec": {
      "display_name": "Python 3",
      "name": "python3"
    },
    "language_info": {
      "codemirror_mode": {
        "name": "ipython",
        "version": 3
      },
      "file_extension": ".py",
      "mimetype": "text/x-python",
      "name": "python",
      "nbconvert_exporter": "python",
      "pygments_lexer": "ipython3",
      "version": "3.12.6"
    }
  },
  "nbformat": 4,
  "nbformat_minor": 0
}